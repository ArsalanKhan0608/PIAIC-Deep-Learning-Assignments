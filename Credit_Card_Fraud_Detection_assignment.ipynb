{
 "cells": [
  {
   "cell_type": "markdown",
   "metadata": {
    "id": "MuDH34_xCUbd"
   },
   "source": [
    "# Credit Card Fraud Detection::"
   ]
  },
  {
   "cell_type": "markdown",
   "metadata": {
    "id": "ak21mTSXCUbt"
   },
   "source": [
    "Download dataset from this link:\n",
    "\n",
    "https://www.kaggle.com/mlg-ulb/creditcardfraud"
   ]
  },
  {
   "cell_type": "markdown",
   "metadata": {
    "id": "mX-eM6WOCUbu"
   },
   "source": [
    "# Description about dataset::"
   ]
  },
  {
   "cell_type": "markdown",
   "metadata": {
    "id": "dte_3cuRCUbu"
   },
   "source": [
    "The datasets contains transactions made by credit cards in September 2013 by european cardholders.\n",
    "This dataset presents transactions that occurred in two days, where we have 492 frauds out of 284,807 transactions. The dataset is highly unbalanced, the positive class (frauds) account for 0.172% of all transactions.\n",
    "\n",
    "It contains only numerical input variables which are the result of a PCA transformation. Unfortunately, due to confidentiality issues, we cannot provide the original features and more background information about the data. Features V1, V2, … V28 are the principal components obtained with PCA, the only features which have not been transformed with PCA are 'Time' and 'Amount'. Feature 'Time' contains the seconds elapsed between each transaction and the first transaction in the dataset. The feature 'Amount' is the transaction Amount, this feature can be used for example-dependant cost-senstive learning. \n",
    "\n",
    "\n",
    "### Feature 'Class' is the response variable and it takes value 1 in case of fraud and 0 otherwise."
   ]
  },
  {
   "cell_type": "markdown",
   "metadata": {
    "id": "gBrDnuZhCUbv"
   },
   "source": [
    "# WORKFLOW :"
   ]
  },
  {
   "cell_type": "markdown",
   "metadata": {
    "id": "ULhsuHUaCUbv"
   },
   "source": [
    "1.Load Data\n",
    "\n",
    "2.Check Missing Values ( If Exist ; Fill each record with mean of its feature )\n",
    "\n",
    "3.Standardized the Input Variables. \n",
    "\n",
    "4.Split into 50% Training(Samples,Labels) , 30% Test(Samples,Labels) and 20% Validation Data(Samples,Labels).\n",
    "\n",
    "5.Model : input Layer (No. of features ), 3 hidden layers including 10,8,6 unit & Output Layer with activation function relu/tanh (check by experiment).\n",
    "\n",
    "6.Compilation Step (Note : Its a Binary problem , select loss , metrics according to it)\n",
    "\n",
    "7.Train the Model with Epochs (100).\n",
    "\n",
    "8.If the model gets overfit tune your model by changing the units , No. of layers , epochs , add dropout layer or add Regularizer according to the need .\n",
    "\n",
    "9.Prediction should be > 92%\n",
    "10.Evaluation Step\n",
    "11Prediction\n"
   ]
  },
  {
   "cell_type": "markdown",
   "metadata": {
    "id": "uKLPh7H6CUbv"
   },
   "source": [
    "# Task::"
   ]
  },
  {
   "cell_type": "markdown",
   "metadata": {
    "id": "rdMRPkKDCUbw"
   },
   "source": [
    "## Identify fraudulent credit card transactions."
   ]
  },
  {
   "cell_type": "code",
   "execution_count": 1,
   "metadata": {
    "colab": {
     "base_uri": "https://localhost:8080/"
    },
    "id": "vF_5qwRUf0Mx",
    "outputId": "bf59f1fc-eee6-4a64-e371-1454490fb53f"
   },
   "outputs": [
    {
     "name": "stdout",
     "output_type": "stream",
     "text": [
      "Mounted at /content/drive\n"
     ]
    }
   ],
   "source": [
    "from google.colab import drive\n",
    "drive.mount('/content/drive')"
   ]
  },
  {
   "cell_type": "code",
   "execution_count": 2,
   "metadata": {
    "id": "rgWbfJtJCUbw"
   },
   "outputs": [],
   "source": [
    "# Importing Modules\n",
    "import numpy as np\n",
    "import pandas as pd\n",
    "import matplotlib.pyplot as plt\n",
    "import seaborn as sns\n",
    "from scipy import stats\n",
    "import tensorflow as tf\n",
    "from tensorflow.keras.models import Sequential\n",
    "from tensorflow.keras.layers import Dense, Dropout\n",
    "from tensorflow.keras import regularizers\n",
    "import tensorboard\n",
    "from pylab import rcParams"
   ]
  },
  {
   "cell_type": "code",
   "execution_count": 67,
   "metadata": {
    "colab": {
     "base_uri": "https://localhost:8080/",
     "height": 221
    },
    "id": "KusaLjcjCUbx",
    "outputId": "474d317a-29aa-44ba-e968-9a69350e85cd"
   },
   "outputs": [
    {
     "data": {
      "text/html": [
       "<div>\n",
       "<style scoped>\n",
       "    .dataframe tbody tr th:only-of-type {\n",
       "        vertical-align: middle;\n",
       "    }\n",
       "\n",
       "    .dataframe tbody tr th {\n",
       "        vertical-align: top;\n",
       "    }\n",
       "\n",
       "    .dataframe thead th {\n",
       "        text-align: right;\n",
       "    }\n",
       "</style>\n",
       "<table border=\"1\" class=\"dataframe\">\n",
       "  <thead>\n",
       "    <tr style=\"text-align: right;\">\n",
       "      <th></th>\n",
       "      <th>Time</th>\n",
       "      <th>V1</th>\n",
       "      <th>V2</th>\n",
       "      <th>V3</th>\n",
       "      <th>V4</th>\n",
       "      <th>V5</th>\n",
       "      <th>V6</th>\n",
       "      <th>V7</th>\n",
       "      <th>V8</th>\n",
       "      <th>V9</th>\n",
       "      <th>V10</th>\n",
       "      <th>V11</th>\n",
       "      <th>V12</th>\n",
       "      <th>V13</th>\n",
       "      <th>V14</th>\n",
       "      <th>V15</th>\n",
       "      <th>V16</th>\n",
       "      <th>V17</th>\n",
       "      <th>V18</th>\n",
       "      <th>V19</th>\n",
       "      <th>V20</th>\n",
       "      <th>V21</th>\n",
       "      <th>V22</th>\n",
       "      <th>V23</th>\n",
       "      <th>V24</th>\n",
       "      <th>V25</th>\n",
       "      <th>V26</th>\n",
       "      <th>V27</th>\n",
       "      <th>V28</th>\n",
       "      <th>Amount</th>\n",
       "      <th>Class</th>\n",
       "    </tr>\n",
       "  </thead>\n",
       "  <tbody>\n",
       "    <tr>\n",
       "      <th>0</th>\n",
       "      <td>0.0</td>\n",
       "      <td>-1.359807</td>\n",
       "      <td>-0.072781</td>\n",
       "      <td>2.536347</td>\n",
       "      <td>1.378155</td>\n",
       "      <td>-0.338321</td>\n",
       "      <td>0.462388</td>\n",
       "      <td>0.239599</td>\n",
       "      <td>0.098698</td>\n",
       "      <td>0.363787</td>\n",
       "      <td>0.090794</td>\n",
       "      <td>-0.551600</td>\n",
       "      <td>-0.617801</td>\n",
       "      <td>-0.991390</td>\n",
       "      <td>-0.311169</td>\n",
       "      <td>1.468177</td>\n",
       "      <td>-0.470401</td>\n",
       "      <td>0.207971</td>\n",
       "      <td>0.025791</td>\n",
       "      <td>0.403993</td>\n",
       "      <td>0.251412</td>\n",
       "      <td>-0.018307</td>\n",
       "      <td>0.277838</td>\n",
       "      <td>-0.110474</td>\n",
       "      <td>0.066928</td>\n",
       "      <td>0.128539</td>\n",
       "      <td>-0.189115</td>\n",
       "      <td>0.133558</td>\n",
       "      <td>-0.021053</td>\n",
       "      <td>149.62</td>\n",
       "      <td>0</td>\n",
       "    </tr>\n",
       "    <tr>\n",
       "      <th>1</th>\n",
       "      <td>0.0</td>\n",
       "      <td>1.191857</td>\n",
       "      <td>0.266151</td>\n",
       "      <td>0.166480</td>\n",
       "      <td>0.448154</td>\n",
       "      <td>0.060018</td>\n",
       "      <td>-0.082361</td>\n",
       "      <td>-0.078803</td>\n",
       "      <td>0.085102</td>\n",
       "      <td>-0.255425</td>\n",
       "      <td>-0.166974</td>\n",
       "      <td>1.612727</td>\n",
       "      <td>1.065235</td>\n",
       "      <td>0.489095</td>\n",
       "      <td>-0.143772</td>\n",
       "      <td>0.635558</td>\n",
       "      <td>0.463917</td>\n",
       "      <td>-0.114805</td>\n",
       "      <td>-0.183361</td>\n",
       "      <td>-0.145783</td>\n",
       "      <td>-0.069083</td>\n",
       "      <td>-0.225775</td>\n",
       "      <td>-0.638672</td>\n",
       "      <td>0.101288</td>\n",
       "      <td>-0.339846</td>\n",
       "      <td>0.167170</td>\n",
       "      <td>0.125895</td>\n",
       "      <td>-0.008983</td>\n",
       "      <td>0.014724</td>\n",
       "      <td>2.69</td>\n",
       "      <td>0</td>\n",
       "    </tr>\n",
       "    <tr>\n",
       "      <th>2</th>\n",
       "      <td>1.0</td>\n",
       "      <td>-1.358354</td>\n",
       "      <td>-1.340163</td>\n",
       "      <td>1.773209</td>\n",
       "      <td>0.379780</td>\n",
       "      <td>-0.503198</td>\n",
       "      <td>1.800499</td>\n",
       "      <td>0.791461</td>\n",
       "      <td>0.247676</td>\n",
       "      <td>-1.514654</td>\n",
       "      <td>0.207643</td>\n",
       "      <td>0.624501</td>\n",
       "      <td>0.066084</td>\n",
       "      <td>0.717293</td>\n",
       "      <td>-0.165946</td>\n",
       "      <td>2.345865</td>\n",
       "      <td>-2.890083</td>\n",
       "      <td>1.109969</td>\n",
       "      <td>-0.121359</td>\n",
       "      <td>-2.261857</td>\n",
       "      <td>0.524980</td>\n",
       "      <td>0.247998</td>\n",
       "      <td>0.771679</td>\n",
       "      <td>0.909412</td>\n",
       "      <td>-0.689281</td>\n",
       "      <td>-0.327642</td>\n",
       "      <td>-0.139097</td>\n",
       "      <td>-0.055353</td>\n",
       "      <td>-0.059752</td>\n",
       "      <td>378.66</td>\n",
       "      <td>0</td>\n",
       "    </tr>\n",
       "    <tr>\n",
       "      <th>3</th>\n",
       "      <td>1.0</td>\n",
       "      <td>-0.966272</td>\n",
       "      <td>-0.185226</td>\n",
       "      <td>1.792993</td>\n",
       "      <td>-0.863291</td>\n",
       "      <td>-0.010309</td>\n",
       "      <td>1.247203</td>\n",
       "      <td>0.237609</td>\n",
       "      <td>0.377436</td>\n",
       "      <td>-1.387024</td>\n",
       "      <td>-0.054952</td>\n",
       "      <td>-0.226487</td>\n",
       "      <td>0.178228</td>\n",
       "      <td>0.507757</td>\n",
       "      <td>-0.287924</td>\n",
       "      <td>-0.631418</td>\n",
       "      <td>-1.059647</td>\n",
       "      <td>-0.684093</td>\n",
       "      <td>1.965775</td>\n",
       "      <td>-1.232622</td>\n",
       "      <td>-0.208038</td>\n",
       "      <td>-0.108300</td>\n",
       "      <td>0.005274</td>\n",
       "      <td>-0.190321</td>\n",
       "      <td>-1.175575</td>\n",
       "      <td>0.647376</td>\n",
       "      <td>-0.221929</td>\n",
       "      <td>0.062723</td>\n",
       "      <td>0.061458</td>\n",
       "      <td>123.50</td>\n",
       "      <td>0</td>\n",
       "    </tr>\n",
       "    <tr>\n",
       "      <th>4</th>\n",
       "      <td>2.0</td>\n",
       "      <td>-1.158233</td>\n",
       "      <td>0.877737</td>\n",
       "      <td>1.548718</td>\n",
       "      <td>0.403034</td>\n",
       "      <td>-0.407193</td>\n",
       "      <td>0.095921</td>\n",
       "      <td>0.592941</td>\n",
       "      <td>-0.270533</td>\n",
       "      <td>0.817739</td>\n",
       "      <td>0.753074</td>\n",
       "      <td>-0.822843</td>\n",
       "      <td>0.538196</td>\n",
       "      <td>1.345852</td>\n",
       "      <td>-1.119670</td>\n",
       "      <td>0.175121</td>\n",
       "      <td>-0.451449</td>\n",
       "      <td>-0.237033</td>\n",
       "      <td>-0.038195</td>\n",
       "      <td>0.803487</td>\n",
       "      <td>0.408542</td>\n",
       "      <td>-0.009431</td>\n",
       "      <td>0.798278</td>\n",
       "      <td>-0.137458</td>\n",
       "      <td>0.141267</td>\n",
       "      <td>-0.206010</td>\n",
       "      <td>0.502292</td>\n",
       "      <td>0.219422</td>\n",
       "      <td>0.215153</td>\n",
       "      <td>69.99</td>\n",
       "      <td>0</td>\n",
       "    </tr>\n",
       "  </tbody>\n",
       "</table>\n",
       "</div>"
      ],
      "text/plain": [
       "   Time        V1        V2        V3  ...       V27       V28  Amount  Class\n",
       "0   0.0 -1.359807 -0.072781  2.536347  ...  0.133558 -0.021053  149.62      0\n",
       "1   0.0  1.191857  0.266151  0.166480  ... -0.008983  0.014724    2.69      0\n",
       "2   1.0 -1.358354 -1.340163  1.773209  ... -0.055353 -0.059752  378.66      0\n",
       "3   1.0 -0.966272 -0.185226  1.792993  ...  0.062723  0.061458  123.50      0\n",
       "4   2.0 -1.158233  0.877737  1.548718  ...  0.219422  0.215153   69.99      0\n",
       "\n",
       "[5 rows x 31 columns]"
      ]
     },
     "execution_count": 67,
     "metadata": {
      "tags": []
     },
     "output_type": "execute_result"
    }
   ],
   "source": [
    "# Loading The Data\n",
    "df = pd.read_csv(\"/content/drive/MyDrive/ML_Datasets/creditcard.csv\")\n",
    "df.head()"
   ]
  },
  {
   "cell_type": "code",
   "execution_count": 10,
   "metadata": {
    "id": "pmA22XBcPdUR"
   },
   "outputs": [],
   "source": [
    "# # Configuring Modules\n",
    "%matplotlib inline\n",
    "sns.set(style='whitegrid', palette='muted', font_scale = 1.5)\n",
    "rcParams['figure.figsize'] = 14, 8\n",
    "Random_Seed = 42"
   ]
  },
  {
   "cell_type": "code",
   "execution_count": 4,
   "metadata": {
    "id": "T2BAfWkwCUbx"
   },
   "outputs": [],
   "source": [
    "# Renaming Columns\n",
    "df.rename(columns = {\"Class\": \"Fraud\"}, inplace = True)"
   ]
  },
  {
   "cell_type": "code",
   "execution_count": 5,
   "metadata": {
    "colab": {
     "base_uri": "https://localhost:8080/",
     "height": 221
    },
    "id": "oStDzFuTvyg2",
    "outputId": "432718d7-8011-4f40-bd79-aeb18dd0c4e1"
   },
   "outputs": [
    {
     "data": {
      "text/html": [
       "<div>\n",
       "<style scoped>\n",
       "    .dataframe tbody tr th:only-of-type {\n",
       "        vertical-align: middle;\n",
       "    }\n",
       "\n",
       "    .dataframe tbody tr th {\n",
       "        vertical-align: top;\n",
       "    }\n",
       "\n",
       "    .dataframe thead th {\n",
       "        text-align: right;\n",
       "    }\n",
       "</style>\n",
       "<table border=\"1\" class=\"dataframe\">\n",
       "  <thead>\n",
       "    <tr style=\"text-align: right;\">\n",
       "      <th></th>\n",
       "      <th>Time</th>\n",
       "      <th>V1</th>\n",
       "      <th>V2</th>\n",
       "      <th>V3</th>\n",
       "      <th>V4</th>\n",
       "      <th>V5</th>\n",
       "      <th>V6</th>\n",
       "      <th>V7</th>\n",
       "      <th>V8</th>\n",
       "      <th>V9</th>\n",
       "      <th>V10</th>\n",
       "      <th>V11</th>\n",
       "      <th>V12</th>\n",
       "      <th>V13</th>\n",
       "      <th>V14</th>\n",
       "      <th>V15</th>\n",
       "      <th>V16</th>\n",
       "      <th>V17</th>\n",
       "      <th>V18</th>\n",
       "      <th>V19</th>\n",
       "      <th>V20</th>\n",
       "      <th>V21</th>\n",
       "      <th>V22</th>\n",
       "      <th>V23</th>\n",
       "      <th>V24</th>\n",
       "      <th>V25</th>\n",
       "      <th>V26</th>\n",
       "      <th>V27</th>\n",
       "      <th>V28</th>\n",
       "      <th>Amount</th>\n",
       "      <th>Fraud</th>\n",
       "    </tr>\n",
       "  </thead>\n",
       "  <tbody>\n",
       "    <tr>\n",
       "      <th>0</th>\n",
       "      <td>0.0</td>\n",
       "      <td>-1.359807</td>\n",
       "      <td>-0.072781</td>\n",
       "      <td>2.536347</td>\n",
       "      <td>1.378155</td>\n",
       "      <td>-0.338321</td>\n",
       "      <td>0.462388</td>\n",
       "      <td>0.239599</td>\n",
       "      <td>0.098698</td>\n",
       "      <td>0.363787</td>\n",
       "      <td>0.090794</td>\n",
       "      <td>-0.551600</td>\n",
       "      <td>-0.617801</td>\n",
       "      <td>-0.991390</td>\n",
       "      <td>-0.311169</td>\n",
       "      <td>1.468177</td>\n",
       "      <td>-0.470401</td>\n",
       "      <td>0.207971</td>\n",
       "      <td>0.025791</td>\n",
       "      <td>0.403993</td>\n",
       "      <td>0.251412</td>\n",
       "      <td>-0.018307</td>\n",
       "      <td>0.277838</td>\n",
       "      <td>-0.110474</td>\n",
       "      <td>0.066928</td>\n",
       "      <td>0.128539</td>\n",
       "      <td>-0.189115</td>\n",
       "      <td>0.133558</td>\n",
       "      <td>-0.021053</td>\n",
       "      <td>149.62</td>\n",
       "      <td>0</td>\n",
       "    </tr>\n",
       "    <tr>\n",
       "      <th>1</th>\n",
       "      <td>0.0</td>\n",
       "      <td>1.191857</td>\n",
       "      <td>0.266151</td>\n",
       "      <td>0.166480</td>\n",
       "      <td>0.448154</td>\n",
       "      <td>0.060018</td>\n",
       "      <td>-0.082361</td>\n",
       "      <td>-0.078803</td>\n",
       "      <td>0.085102</td>\n",
       "      <td>-0.255425</td>\n",
       "      <td>-0.166974</td>\n",
       "      <td>1.612727</td>\n",
       "      <td>1.065235</td>\n",
       "      <td>0.489095</td>\n",
       "      <td>-0.143772</td>\n",
       "      <td>0.635558</td>\n",
       "      <td>0.463917</td>\n",
       "      <td>-0.114805</td>\n",
       "      <td>-0.183361</td>\n",
       "      <td>-0.145783</td>\n",
       "      <td>-0.069083</td>\n",
       "      <td>-0.225775</td>\n",
       "      <td>-0.638672</td>\n",
       "      <td>0.101288</td>\n",
       "      <td>-0.339846</td>\n",
       "      <td>0.167170</td>\n",
       "      <td>0.125895</td>\n",
       "      <td>-0.008983</td>\n",
       "      <td>0.014724</td>\n",
       "      <td>2.69</td>\n",
       "      <td>0</td>\n",
       "    </tr>\n",
       "    <tr>\n",
       "      <th>2</th>\n",
       "      <td>1.0</td>\n",
       "      <td>-1.358354</td>\n",
       "      <td>-1.340163</td>\n",
       "      <td>1.773209</td>\n",
       "      <td>0.379780</td>\n",
       "      <td>-0.503198</td>\n",
       "      <td>1.800499</td>\n",
       "      <td>0.791461</td>\n",
       "      <td>0.247676</td>\n",
       "      <td>-1.514654</td>\n",
       "      <td>0.207643</td>\n",
       "      <td>0.624501</td>\n",
       "      <td>0.066084</td>\n",
       "      <td>0.717293</td>\n",
       "      <td>-0.165946</td>\n",
       "      <td>2.345865</td>\n",
       "      <td>-2.890083</td>\n",
       "      <td>1.109969</td>\n",
       "      <td>-0.121359</td>\n",
       "      <td>-2.261857</td>\n",
       "      <td>0.524980</td>\n",
       "      <td>0.247998</td>\n",
       "      <td>0.771679</td>\n",
       "      <td>0.909412</td>\n",
       "      <td>-0.689281</td>\n",
       "      <td>-0.327642</td>\n",
       "      <td>-0.139097</td>\n",
       "      <td>-0.055353</td>\n",
       "      <td>-0.059752</td>\n",
       "      <td>378.66</td>\n",
       "      <td>0</td>\n",
       "    </tr>\n",
       "    <tr>\n",
       "      <th>3</th>\n",
       "      <td>1.0</td>\n",
       "      <td>-0.966272</td>\n",
       "      <td>-0.185226</td>\n",
       "      <td>1.792993</td>\n",
       "      <td>-0.863291</td>\n",
       "      <td>-0.010309</td>\n",
       "      <td>1.247203</td>\n",
       "      <td>0.237609</td>\n",
       "      <td>0.377436</td>\n",
       "      <td>-1.387024</td>\n",
       "      <td>-0.054952</td>\n",
       "      <td>-0.226487</td>\n",
       "      <td>0.178228</td>\n",
       "      <td>0.507757</td>\n",
       "      <td>-0.287924</td>\n",
       "      <td>-0.631418</td>\n",
       "      <td>-1.059647</td>\n",
       "      <td>-0.684093</td>\n",
       "      <td>1.965775</td>\n",
       "      <td>-1.232622</td>\n",
       "      <td>-0.208038</td>\n",
       "      <td>-0.108300</td>\n",
       "      <td>0.005274</td>\n",
       "      <td>-0.190321</td>\n",
       "      <td>-1.175575</td>\n",
       "      <td>0.647376</td>\n",
       "      <td>-0.221929</td>\n",
       "      <td>0.062723</td>\n",
       "      <td>0.061458</td>\n",
       "      <td>123.50</td>\n",
       "      <td>0</td>\n",
       "    </tr>\n",
       "    <tr>\n",
       "      <th>4</th>\n",
       "      <td>2.0</td>\n",
       "      <td>-1.158233</td>\n",
       "      <td>0.877737</td>\n",
       "      <td>1.548718</td>\n",
       "      <td>0.403034</td>\n",
       "      <td>-0.407193</td>\n",
       "      <td>0.095921</td>\n",
       "      <td>0.592941</td>\n",
       "      <td>-0.270533</td>\n",
       "      <td>0.817739</td>\n",
       "      <td>0.753074</td>\n",
       "      <td>-0.822843</td>\n",
       "      <td>0.538196</td>\n",
       "      <td>1.345852</td>\n",
       "      <td>-1.119670</td>\n",
       "      <td>0.175121</td>\n",
       "      <td>-0.451449</td>\n",
       "      <td>-0.237033</td>\n",
       "      <td>-0.038195</td>\n",
       "      <td>0.803487</td>\n",
       "      <td>0.408542</td>\n",
       "      <td>-0.009431</td>\n",
       "      <td>0.798278</td>\n",
       "      <td>-0.137458</td>\n",
       "      <td>0.141267</td>\n",
       "      <td>-0.206010</td>\n",
       "      <td>0.502292</td>\n",
       "      <td>0.219422</td>\n",
       "      <td>0.215153</td>\n",
       "      <td>69.99</td>\n",
       "      <td>0</td>\n",
       "    </tr>\n",
       "  </tbody>\n",
       "</table>\n",
       "</div>"
      ],
      "text/plain": [
       "   Time        V1        V2        V3  ...       V27       V28  Amount  Fraud\n",
       "0   0.0 -1.359807 -0.072781  2.536347  ...  0.133558 -0.021053  149.62      0\n",
       "1   0.0  1.191857  0.266151  0.166480  ... -0.008983  0.014724    2.69      0\n",
       "2   1.0 -1.358354 -1.340163  1.773209  ... -0.055353 -0.059752  378.66      0\n",
       "3   1.0 -0.966272 -0.185226  1.792993  ...  0.062723  0.061458  123.50      0\n",
       "4   2.0 -1.158233  0.877737  1.548718  ...  0.219422  0.215153   69.99      0\n",
       "\n",
       "[5 rows x 31 columns]"
      ]
     },
     "execution_count": 5,
     "metadata": {
      "tags": []
     },
     "output_type": "execute_result"
    }
   ],
   "source": [
    " df.head()"
   ]
  },
  {
   "cell_type": "code",
   "execution_count": 6,
   "metadata": {
    "colab": {
     "base_uri": "https://localhost:8080/"
    },
    "id": "cJMf1iEbQKdQ",
    "outputId": "104dc1f3-0529-4290-fc37-f5525131372d"
   },
   "outputs": [
    {
     "data": {
      "text/plain": [
       "(284807, 31)"
      ]
     },
     "execution_count": 6,
     "metadata": {
      "tags": []
     },
     "output_type": "execute_result"
    }
   ],
   "source": [
    "df.shape"
   ]
  },
  {
   "cell_type": "code",
   "execution_count": 7,
   "metadata": {
    "colab": {
     "base_uri": "https://localhost:8080/"
    },
    "id": "IMCRpYlHQOLj",
    "outputId": "ccb780f8-0ae4-49d5-e113-da8f48b55673"
   },
   "outputs": [
    {
     "data": {
      "text/plain": [
       "Time      0\n",
       "V1        0\n",
       "V2        0\n",
       "V3        0\n",
       "V4        0\n",
       "V5        0\n",
       "V6        0\n",
       "V7        0\n",
       "V8        0\n",
       "V9        0\n",
       "V10       0\n",
       "V11       0\n",
       "V12       0\n",
       "V13       0\n",
       "V14       0\n",
       "V15       0\n",
       "V16       0\n",
       "V17       0\n",
       "V18       0\n",
       "V19       0\n",
       "V20       0\n",
       "V21       0\n",
       "V22       0\n",
       "V23       0\n",
       "V24       0\n",
       "V25       0\n",
       "V26       0\n",
       "V27       0\n",
       "V28       0\n",
       "Amount    0\n",
       "Fraud     0\n",
       "dtype: int64"
      ]
     },
     "execution_count": 7,
     "metadata": {
      "tags": []
     },
     "output_type": "execute_result"
    }
   ],
   "source": [
    "# Checking Data For Null Values\n",
    "df.isnull().sum()"
   ]
  },
  {
   "cell_type": "markdown",
   "metadata": {
    "id": "k67LLHi_QV9c"
   },
   "source": [
    "OUR DATA CONTAINS NO NULL VALUES"
   ]
  },
  {
   "cell_type": "code",
   "execution_count": 8,
   "metadata": {
    "colab": {
     "base_uri": "https://localhost:8080/",
     "height": 638
    },
    "id": "V5-ThNAmm3a9",
    "outputId": "5f4ca858-cea1-43b9-fa14-b98fec73852c"
   },
   "outputs": [
    {
     "data": {
      "text/plain": [
       "<matplotlib.axes._subplots.AxesSubplot at 0x7f50afba57d0>"
      ]
     },
     "execution_count": 8,
     "metadata": {
      "tags": []
     },
     "output_type": "execute_result"
    },
    {
     "data": {
      "image/png": "[encoded data removed]",
      "text/plain": [
       "<Figure size 1440x720 with 2 Axes>"
      ]
     },
     "metadata": {
      "needs_background": "light",
      "tags": []
     },
     "output_type": "display_data"
    }
   ],
   "source": [
    "# Checking Correlations\n",
    "corr = df.corr()\n",
    "\n",
    "# generate a mask for the upper triangle\n",
    "mask = np.zeros_like(corr, dtype=np.bool)\n",
    "mask[np.triu_indices_from(mask)] = True\n",
    "\n",
    "# figure size\n",
    "f, ax = plt.subplots(figsize=(20, 10))\n",
    "\n",
    "# generate a custom diverging colormap\n",
    "cmap = sns.diverging_palette(220, 10, as_cmap=True)\n",
    "\n",
    "# draw the heatmap with the mask and correct aspect ratio\n",
    "sns.heatmap(corr, mask=mask, cmap='CMRmap_r', vmax=.3, center=0, square=True,\n",
    "            linewidths=.5, cbar_kws={\"shrink\": .5})"
   ]
  },
  {
   "cell_type": "code",
   "execution_count": 9,
   "metadata": {
    "colab": {
     "base_uri": "https://localhost:8080/",
     "height": 621
    },
    "id": "E-yn1a5W5R1K",
    "outputId": "a6f13e20-8a9c-45c3-dfe8-03360d42a140"
   },
   "outputs": [
    {
     "data": {
      "image/png": "[encoded data removed]",
      "text/plain": [
       "<Figure size 720x720 with 1 Axes>"
      ]
     },
     "metadata": {
      "needs_background": "light",
      "tags": []
     },
     "output_type": "display_data"
    }
   ],
   "source": [
    "# Transaction Class Distribution Plot\n",
    "labels = ['Valid', 'Fraud']\n",
    "plt.figure(figsize = (10,10))\n",
    "count_classes = pd.value_counts(df['Fraud'], sort = True)\n",
    "count_classes.plot(kind = 'bar', rot=0, color = 'red', alpha = 0.5)\n",
    "plt.xticks(range(2), labels)\n",
    "plt.title(\"Transaction Class Distribution Graph\")\n",
    "plt.xlabel(\"Class\")\n",
    "plt.ylabel(\"Number of Observations\")\n",
    "plt.grid()\n",
    "plt.show()"
   ]
  },
  {
   "cell_type": "code",
   "execution_count": 11,
   "metadata": {
    "colab": {
     "base_uri": "https://localhost:8080/"
    },
    "id": "0IDKN_a0g6Jj",
    "outputId": "8432310a-411e-4471-9883-9bf13c7fca38"
   },
   "outputs": [
    {
     "data": {
      "text/plain": [
       "284807"
      ]
     },
     "execution_count": 11,
     "metadata": {
      "tags": []
     },
     "output_type": "execute_result"
    }
   ],
   "source": [
    "len(df)"
   ]
  },
  {
   "cell_type": "markdown",
   "metadata": {
    "id": "9RfRDFtZhUV8"
   },
   "source": [
    "There are total 284807 number of transactions"
   ]
  },
  {
   "cell_type": "code",
   "execution_count": 12,
   "metadata": {
    "colab": {
     "base_uri": "https://localhost:8080/"
    },
    "id": "2Fh_MWithc6K",
    "outputId": "5c67fb64-f31c-4496-c0d8-15491628ac24"
   },
   "outputs": [
    {
     "data": {
      "text/plain": [
       "492"
      ]
     },
     "execution_count": 12,
     "metadata": {
      "tags": []
     },
     "output_type": "execute_result"
    }
   ],
   "source": [
    "len_fraud = len(df[df.Fraud ==  1])\n",
    "len_fraud"
   ]
  },
  {
   "cell_type": "markdown",
   "metadata": {
    "id": "J9xnV2V6iWgN"
   },
   "source": [
    "Out of 284807 transactions 492 are the fraud transactions"
   ]
  },
  {
   "cell_type": "code",
   "execution_count": 13,
   "metadata": {
    "colab": {
     "base_uri": "https://localhost:8080/"
    },
    "id": "6A1Myx-liYLZ",
    "outputId": "bd6a658e-588d-4832-ab43-ba7cd867b93a"
   },
   "outputs": [
    {
     "data": {
      "text/plain": [
       "284315"
      ]
     },
     "execution_count": 13,
     "metadata": {
      "tags": []
     },
     "output_type": "execute_result"
    }
   ],
   "source": [
    "len_valid = 284807 - 492\n",
    "len_valid"
   ]
  },
  {
   "cell_type": "markdown",
   "metadata": {
    "id": "bNjRC8ugiz30"
   },
   "source": [
    "Out of 284807 transactions 284315 are the valid transactions"
   ]
  },
  {
   "cell_type": "code",
   "execution_count": 14,
   "metadata": {
    "colab": {
     "base_uri": "https://localhost:8080/"
    },
    "id": "5lgYeuh3i4pt",
    "outputId": "1d3d7e51-757d-43df-a39d-8efae84f7395"
   },
   "outputs": [
    {
     "data": {
      "text/plain": [
       "0.1727485630620034"
      ]
     },
     "execution_count": 14,
     "metadata": {
      "tags": []
     },
     "output_type": "execute_result"
    }
   ],
   "source": [
    "perc_fraud = (len_fraud * 100) / len(df)\n",
    "perc_fraud"
   ]
  },
  {
   "cell_type": "markdown",
   "metadata": {
    "id": "pcPJ5MsMjXhl"
   },
   "source": [
    "### As you can see out of total transactions only **0.17 %** are the fraud transactions. It means that we have highly **Imbalance Dataset** in our hands. There is a **large margin** between the valid transactions and the fraud transactions."
   ]
  },
  {
   "cell_type": "code",
   "execution_count": 15,
   "metadata": {
    "id": "geMt_1EKCUby"
   },
   "outputs": [],
   "source": [
    "# Making DataFrames Of Valid And Fraud Transactions To Check Important Stats\n",
    "Fraud_df = df[df.Fraud == 1]\n",
    "Valid_df = df[df.Fraud == 0]"
   ]
  },
  {
   "cell_type": "code",
   "execution_count": 16,
   "metadata": {
    "colab": {
     "base_uri": "https://localhost:8080/"
    },
    "id": "4dVTVTCFCUbz",
    "outputId": "af86907d-03a5-48f3-99c2-3af4885e5d45"
   },
   "outputs": [
    {
     "data": {
      "text/plain": [
       "count     492.000000\n",
       "mean      122.211321\n",
       "std       256.683288\n",
       "min         0.000000\n",
       "25%         1.000000\n",
       "50%         9.250000\n",
       "75%       105.890000\n",
       "max      2125.870000\n",
       "Name: Amount, dtype: float64"
      ]
     },
     "execution_count": 16,
     "metadata": {
      "tags": []
     },
     "output_type": "execute_result"
    }
   ],
   "source": [
    "# Checking Important Stats of Amount used in Fraud Transactions\n",
    "Fraud_df.Amount.describe()"
   ]
  },
  {
   "cell_type": "code",
   "execution_count": 17,
   "metadata": {
    "colab": {
     "base_uri": "https://localhost:8080/"
    },
    "id": "WM4n9N33CUbz",
    "outputId": "c43ca8b5-8eb9-48ad-f173-c5655eae5b68"
   },
   "outputs": [
    {
     "data": {
      "text/plain": [
       "count    284315.000000\n",
       "mean         88.291022\n",
       "std         250.105092\n",
       "min           0.000000\n",
       "25%           5.650000\n",
       "50%          22.000000\n",
       "75%          77.050000\n",
       "max       25691.160000\n",
       "Name: Amount, dtype: float64"
      ]
     },
     "execution_count": 17,
     "metadata": {
      "tags": []
     },
     "output_type": "execute_result"
    }
   ],
   "source": [
    "# Checking Imprtant Stats of Amount used in Valid Transactions\n",
    "Valid_df.Amount.describe()"
   ]
  },
  {
   "cell_type": "code",
   "execution_count": 18,
   "metadata": {
    "colab": {
     "base_uri": "https://localhost:8080/",
     "height": 573
    },
    "id": "Q6NhhhQtCUbz",
    "outputId": "5e4a8e71-7f92-4392-8b82-95bb9fa772b0"
   },
   "outputs": [
    {
     "data": {
      "image/png": "[encoded data removed]",
      "text/plain": [
       "<Figure size 1008x576 with 2 Axes>"
      ]
     },
     "metadata": {
      "tags": []
     },
     "output_type": "display_data"
    }
   ],
   "source": [
    "# Amount per transaction by class\n",
    "f, (ax1, ax2) = plt.subplots(2, 1, sharex=True)\n",
    "f.suptitle('Amount Per Transaction Graph')\n",
    "\n",
    "bins = 50\n",
    "\n",
    "ax1.hist(Fraud_df.Amount, bins = bins, color='blue')\n",
    "ax1.set_title('Fraud Transactions')\n",
    "\n",
    "ax2.hist(Valid_df.Amount, bins = bins, color='red', alpha = 0.5)\n",
    "ax2.set_title('Valid Transactions')\n",
    "\n",
    "plt.xlabel('Amount ($)')\n",
    "plt.ylabel('Number of Transactions')\n",
    "plt.xlim((0, 20000))\n",
    "plt.yscale('log')\n",
    "plt.show();"
   ]
  },
  {
   "cell_type": "code",
   "execution_count": 19,
   "metadata": {
    "colab": {
     "base_uri": "https://localhost:8080/",
     "height": 573
    },
    "id": "bZ2VVGtxCUbz",
    "outputId": "8d4fbd42-99c7-4573-ed80-968a0b0c9c76"
   },
   "outputs": [
    {
     "data": {
      "image/png": "[encoded data removed]",
      "text/plain": [
       "<Figure size 1008x576 with 2 Axes>"
      ]
     },
     "metadata": {
      "tags": []
     },
     "output_type": "display_data"
    }
   ],
   "source": [
    "# Time of transaction vs Amount by class\n",
    "f, (ax1, ax2) = plt.subplots(2, 1, sharex=True)\n",
    "f.suptitle('Time of Transaction VS Amount of Transaction Graph')\n",
    "\n",
    "ax1.scatter(Fraud_df.Time, Fraud_df.Amount)\n",
    "ax1.set_title('Fraud Transactions')\n",
    "\n",
    "ax2.scatter(Valid_df.Time,Valid_df.Amount)\n",
    "ax2.set_title('Valid Transactions')\n",
    "\n",
    "plt.xlabel('Time (In Seconds)')\n",
    "plt.ylabel('Amount')\n",
    "plt.show()"
   ]
  },
  {
   "cell_type": "code",
   "execution_count": 20,
   "metadata": {
    "id": "zPWOjARG72ts"
   },
   "outputs": [],
   "source": [
    "# Normalizing Data\n",
    "# We Need To Normalize Two Features: Time And Amount\n",
    "from sklearn.preprocessing import StandardScaler\n",
    "df_norm = df\n",
    "df_norm['Time'] = StandardScaler().fit_transform(df_norm['Time'].values.reshape(-1, 1))\n",
    "df_norm['Amount'] = StandardScaler().fit_transform(df_norm['Amount'].values.reshape(-1, 1))"
   ]
  },
  {
   "cell_type": "markdown",
   "metadata": {
    "id": "K8sXKIvh9Pvh"
   },
   "source": [
    "Splitting Dataset Into Testing and Training Data"
   ]
  },
  {
   "cell_type": "code",
   "execution_count": 21,
   "metadata": {
    "colab": {
     "base_uri": "https://localhost:8080/"
    },
    "id": "D-pi_aIR4y68",
    "outputId": "a2ae4ee8-28ad-4cef-a522-35cb45a35cd5"
   },
   "outputs": [
    {
     "data": {
      "text/plain": [
       "(199365, 31)"
      ]
     },
     "execution_count": 21,
     "metadata": {
      "tags": []
     },
     "output_type": "execute_result"
    }
   ],
   "source": [
    "# Training Data\n",
    "train_data = df_norm.iloc[:199365,:]\n",
    "train_data.shape"
   ]
  },
  {
   "cell_type": "code",
   "execution_count": 22,
   "metadata": {
    "colab": {
     "base_uri": "https://localhost:8080/"
    },
    "id": "Gfl-fR5z5Ead",
    "outputId": "998b6150-d8a4-40e7-c16d-a08f21d2c7e8"
   },
   "outputs": [
    {
     "data": {
      "text/plain": [
       "(85442, 31)"
      ]
     },
     "execution_count": 22,
     "metadata": {
      "tags": []
     },
     "output_type": "execute_result"
    }
   ],
   "source": [
    "# Testing Data\n",
    "test_data = df_norm.iloc[199365:,:]\n",
    "test_data.shape"
   ]
  },
  {
   "cell_type": "code",
   "execution_count": 23,
   "metadata": {
    "colab": {
     "base_uri": "https://localhost:8080/",
     "height": 221
    },
    "id": "5u2O87f_5PRu",
    "outputId": "96025883-38e3-4d75-e4ca-b0a095449558"
   },
   "outputs": [
    {
     "data": {
      "text/html": [
       "<div>\n",
       "<style scoped>\n",
       "    .dataframe tbody tr th:only-of-type {\n",
       "        vertical-align: middle;\n",
       "    }\n",
       "\n",
       "    .dataframe tbody tr th {\n",
       "        vertical-align: top;\n",
       "    }\n",
       "\n",
       "    .dataframe thead th {\n",
       "        text-align: right;\n",
       "    }\n",
       "</style>\n",
       "<table border=\"1\" class=\"dataframe\">\n",
       "  <thead>\n",
       "    <tr style=\"text-align: right;\">\n",
       "      <th></th>\n",
       "      <th>Time</th>\n",
       "      <th>V1</th>\n",
       "      <th>V2</th>\n",
       "      <th>V3</th>\n",
       "      <th>V4</th>\n",
       "      <th>V5</th>\n",
       "      <th>V6</th>\n",
       "      <th>V7</th>\n",
       "      <th>V8</th>\n",
       "      <th>V9</th>\n",
       "      <th>V10</th>\n",
       "      <th>V11</th>\n",
       "      <th>V12</th>\n",
       "      <th>V13</th>\n",
       "      <th>V14</th>\n",
       "      <th>V15</th>\n",
       "      <th>V16</th>\n",
       "      <th>V17</th>\n",
       "      <th>V18</th>\n",
       "      <th>V19</th>\n",
       "      <th>V20</th>\n",
       "      <th>V21</th>\n",
       "      <th>V22</th>\n",
       "      <th>V23</th>\n",
       "      <th>V24</th>\n",
       "      <th>V25</th>\n",
       "      <th>V26</th>\n",
       "      <th>V27</th>\n",
       "      <th>V28</th>\n",
       "      <th>Amount</th>\n",
       "      <th>Fraud</th>\n",
       "    </tr>\n",
       "  </thead>\n",
       "  <tbody>\n",
       "    <tr>\n",
       "      <th>0</th>\n",
       "      <td>-1.996583</td>\n",
       "      <td>-1.359807</td>\n",
       "      <td>-0.072781</td>\n",
       "      <td>2.536347</td>\n",
       "      <td>1.378155</td>\n",
       "      <td>-0.338321</td>\n",
       "      <td>0.462388</td>\n",
       "      <td>0.239599</td>\n",
       "      <td>0.098698</td>\n",
       "      <td>0.363787</td>\n",
       "      <td>0.090794</td>\n",
       "      <td>-0.551600</td>\n",
       "      <td>-0.617801</td>\n",
       "      <td>-0.991390</td>\n",
       "      <td>-0.311169</td>\n",
       "      <td>1.468177</td>\n",
       "      <td>-0.470401</td>\n",
       "      <td>0.207971</td>\n",
       "      <td>0.025791</td>\n",
       "      <td>0.403993</td>\n",
       "      <td>0.251412</td>\n",
       "      <td>-0.018307</td>\n",
       "      <td>0.277838</td>\n",
       "      <td>-0.110474</td>\n",
       "      <td>0.066928</td>\n",
       "      <td>0.128539</td>\n",
       "      <td>-0.189115</td>\n",
       "      <td>0.133558</td>\n",
       "      <td>-0.021053</td>\n",
       "      <td>0.244964</td>\n",
       "      <td>0</td>\n",
       "    </tr>\n",
       "    <tr>\n",
       "      <th>1</th>\n",
       "      <td>-1.996583</td>\n",
       "      <td>1.191857</td>\n",
       "      <td>0.266151</td>\n",
       "      <td>0.166480</td>\n",
       "      <td>0.448154</td>\n",
       "      <td>0.060018</td>\n",
       "      <td>-0.082361</td>\n",
       "      <td>-0.078803</td>\n",
       "      <td>0.085102</td>\n",
       "      <td>-0.255425</td>\n",
       "      <td>-0.166974</td>\n",
       "      <td>1.612727</td>\n",
       "      <td>1.065235</td>\n",
       "      <td>0.489095</td>\n",
       "      <td>-0.143772</td>\n",
       "      <td>0.635558</td>\n",
       "      <td>0.463917</td>\n",
       "      <td>-0.114805</td>\n",
       "      <td>-0.183361</td>\n",
       "      <td>-0.145783</td>\n",
       "      <td>-0.069083</td>\n",
       "      <td>-0.225775</td>\n",
       "      <td>-0.638672</td>\n",
       "      <td>0.101288</td>\n",
       "      <td>-0.339846</td>\n",
       "      <td>0.167170</td>\n",
       "      <td>0.125895</td>\n",
       "      <td>-0.008983</td>\n",
       "      <td>0.014724</td>\n",
       "      <td>-0.342475</td>\n",
       "      <td>0</td>\n",
       "    </tr>\n",
       "    <tr>\n",
       "      <th>2</th>\n",
       "      <td>-1.996562</td>\n",
       "      <td>-1.358354</td>\n",
       "      <td>-1.340163</td>\n",
       "      <td>1.773209</td>\n",
       "      <td>0.379780</td>\n",
       "      <td>-0.503198</td>\n",
       "      <td>1.800499</td>\n",
       "      <td>0.791461</td>\n",
       "      <td>0.247676</td>\n",
       "      <td>-1.514654</td>\n",
       "      <td>0.207643</td>\n",
       "      <td>0.624501</td>\n",
       "      <td>0.066084</td>\n",
       "      <td>0.717293</td>\n",
       "      <td>-0.165946</td>\n",
       "      <td>2.345865</td>\n",
       "      <td>-2.890083</td>\n",
       "      <td>1.109969</td>\n",
       "      <td>-0.121359</td>\n",
       "      <td>-2.261857</td>\n",
       "      <td>0.524980</td>\n",
       "      <td>0.247998</td>\n",
       "      <td>0.771679</td>\n",
       "      <td>0.909412</td>\n",
       "      <td>-0.689281</td>\n",
       "      <td>-0.327642</td>\n",
       "      <td>-0.139097</td>\n",
       "      <td>-0.055353</td>\n",
       "      <td>-0.059752</td>\n",
       "      <td>1.160686</td>\n",
       "      <td>0</td>\n",
       "    </tr>\n",
       "    <tr>\n",
       "      <th>3</th>\n",
       "      <td>-1.996562</td>\n",
       "      <td>-0.966272</td>\n",
       "      <td>-0.185226</td>\n",
       "      <td>1.792993</td>\n",
       "      <td>-0.863291</td>\n",
       "      <td>-0.010309</td>\n",
       "      <td>1.247203</td>\n",
       "      <td>0.237609</td>\n",
       "      <td>0.377436</td>\n",
       "      <td>-1.387024</td>\n",
       "      <td>-0.054952</td>\n",
       "      <td>-0.226487</td>\n",
       "      <td>0.178228</td>\n",
       "      <td>0.507757</td>\n",
       "      <td>-0.287924</td>\n",
       "      <td>-0.631418</td>\n",
       "      <td>-1.059647</td>\n",
       "      <td>-0.684093</td>\n",
       "      <td>1.965775</td>\n",
       "      <td>-1.232622</td>\n",
       "      <td>-0.208038</td>\n",
       "      <td>-0.108300</td>\n",
       "      <td>0.005274</td>\n",
       "      <td>-0.190321</td>\n",
       "      <td>-1.175575</td>\n",
       "      <td>0.647376</td>\n",
       "      <td>-0.221929</td>\n",
       "      <td>0.062723</td>\n",
       "      <td>0.061458</td>\n",
       "      <td>0.140534</td>\n",
       "      <td>0</td>\n",
       "    </tr>\n",
       "    <tr>\n",
       "      <th>4</th>\n",
       "      <td>-1.996541</td>\n",
       "      <td>-1.158233</td>\n",
       "      <td>0.877737</td>\n",
       "      <td>1.548718</td>\n",
       "      <td>0.403034</td>\n",
       "      <td>-0.407193</td>\n",
       "      <td>0.095921</td>\n",
       "      <td>0.592941</td>\n",
       "      <td>-0.270533</td>\n",
       "      <td>0.817739</td>\n",
       "      <td>0.753074</td>\n",
       "      <td>-0.822843</td>\n",
       "      <td>0.538196</td>\n",
       "      <td>1.345852</td>\n",
       "      <td>-1.119670</td>\n",
       "      <td>0.175121</td>\n",
       "      <td>-0.451449</td>\n",
       "      <td>-0.237033</td>\n",
       "      <td>-0.038195</td>\n",
       "      <td>0.803487</td>\n",
       "      <td>0.408542</td>\n",
       "      <td>-0.009431</td>\n",
       "      <td>0.798278</td>\n",
       "      <td>-0.137458</td>\n",
       "      <td>0.141267</td>\n",
       "      <td>-0.206010</td>\n",
       "      <td>0.502292</td>\n",
       "      <td>0.219422</td>\n",
       "      <td>0.215153</td>\n",
       "      <td>-0.073403</td>\n",
       "      <td>0</td>\n",
       "    </tr>\n",
       "  </tbody>\n",
       "</table>\n",
       "</div>"
      ],
      "text/plain": [
       "       Time        V1        V2        V3  ...       V27       V28    Amount  Fraud\n",
       "0 -1.996583 -1.359807 -0.072781  2.536347  ...  0.133558 -0.021053  0.244964      0\n",
       "1 -1.996583  1.191857  0.266151  0.166480  ... -0.008983  0.014724 -0.342475      0\n",
       "2 -1.996562 -1.358354 -1.340163  1.773209  ... -0.055353 -0.059752  1.160686      0\n",
       "3 -1.996562 -0.966272 -0.185226  1.792993  ...  0.062723  0.061458  0.140534      0\n",
       "4 -1.996541 -1.158233  0.877737  1.548718  ...  0.219422  0.215153 -0.073403      0\n",
       "\n",
       "[5 rows x 31 columns]"
      ]
     },
     "execution_count": 23,
     "metadata": {
      "tags": []
     },
     "output_type": "execute_result"
    }
   ],
   "source": [
    "train_data.head()"
   ]
  },
  {
   "cell_type": "code",
   "execution_count": 24,
   "metadata": {
    "colab": {
     "base_uri": "https://localhost:8080/",
     "height": 221
    },
    "id": "wZc3H2A15UMX",
    "outputId": "2ad9838b-abb9-4748-dbfd-dc687329b0a3"
   },
   "outputs": [
    {
     "data": {
      "text/html": [
       "<div>\n",
       "<style scoped>\n",
       "    .dataframe tbody tr th:only-of-type {\n",
       "        vertical-align: middle;\n",
       "    }\n",
       "\n",
       "    .dataframe tbody tr th {\n",
       "        vertical-align: top;\n",
       "    }\n",
       "\n",
       "    .dataframe thead th {\n",
       "        text-align: right;\n",
       "    }\n",
       "</style>\n",
       "<table border=\"1\" class=\"dataframe\">\n",
       "  <thead>\n",
       "    <tr style=\"text-align: right;\">\n",
       "      <th></th>\n",
       "      <th>Time</th>\n",
       "      <th>V1</th>\n",
       "      <th>V2</th>\n",
       "      <th>V3</th>\n",
       "      <th>V4</th>\n",
       "      <th>V5</th>\n",
       "      <th>V6</th>\n",
       "      <th>V7</th>\n",
       "      <th>V8</th>\n",
       "      <th>V9</th>\n",
       "      <th>V10</th>\n",
       "      <th>V11</th>\n",
       "      <th>V12</th>\n",
       "      <th>V13</th>\n",
       "      <th>V14</th>\n",
       "      <th>V15</th>\n",
       "      <th>V16</th>\n",
       "      <th>V17</th>\n",
       "      <th>V18</th>\n",
       "      <th>V19</th>\n",
       "      <th>V20</th>\n",
       "      <th>V21</th>\n",
       "      <th>V22</th>\n",
       "      <th>V23</th>\n",
       "      <th>V24</th>\n",
       "      <th>V25</th>\n",
       "      <th>V26</th>\n",
       "      <th>V27</th>\n",
       "      <th>V28</th>\n",
       "      <th>Amount</th>\n",
       "      <th>Fraud</th>\n",
       "    </tr>\n",
       "  </thead>\n",
       "  <tbody>\n",
       "    <tr>\n",
       "      <th>199365</th>\n",
       "      <td>0.802626</td>\n",
       "      <td>2.152590</td>\n",
       "      <td>-0.900447</td>\n",
       "      <td>-1.092456</td>\n",
       "      <td>-0.994969</td>\n",
       "      <td>-0.613447</td>\n",
       "      <td>-0.760012</td>\n",
       "      <td>-0.530218</td>\n",
       "      <td>-0.222248</td>\n",
       "      <td>-0.214416</td>\n",
       "      <td>0.746967</td>\n",
       "      <td>-1.256213</td>\n",
       "      <td>-0.762171</td>\n",
       "      <td>0.086847</td>\n",
       "      <td>-0.133543</td>\n",
       "      <td>0.365813</td>\n",
       "      <td>1.400839</td>\n",
       "      <td>-0.115840</td>\n",
       "      <td>-1.594770</td>\n",
       "      <td>1.026636</td>\n",
       "      <td>0.060715</td>\n",
       "      <td>-0.281725</td>\n",
       "      <td>-0.987236</td>\n",
       "      <td>0.358646</td>\n",
       "      <td>-0.782338</td>\n",
       "      <td>-0.480245</td>\n",
       "      <td>-0.647930</td>\n",
       "      <td>-0.023563</td>\n",
       "      <td>-0.044354</td>\n",
       "      <td>-0.129536</td>\n",
       "      <td>0</td>\n",
       "    </tr>\n",
       "    <tr>\n",
       "      <th>199366</th>\n",
       "      <td>0.802626</td>\n",
       "      <td>1.811278</td>\n",
       "      <td>0.224393</td>\n",
       "      <td>0.542888</td>\n",
       "      <td>3.606222</td>\n",
       "      <td>-0.162910</td>\n",
       "      <td>1.171241</td>\n",
       "      <td>-0.874598</td>\n",
       "      <td>0.419449</td>\n",
       "      <td>-0.546470</td>\n",
       "      <td>1.493825</td>\n",
       "      <td>0.583293</td>\n",
       "      <td>0.884700</td>\n",
       "      <td>0.831223</td>\n",
       "      <td>-0.293394</td>\n",
       "      <td>-0.870717</td>\n",
       "      <td>1.653737</td>\n",
       "      <td>-1.335181</td>\n",
       "      <td>0.431294</td>\n",
       "      <td>-1.605950</td>\n",
       "      <td>-0.198616</td>\n",
       "      <td>0.109290</td>\n",
       "      <td>0.345703</td>\n",
       "      <td>0.365984</td>\n",
       "      <td>0.663253</td>\n",
       "      <td>-0.531272</td>\n",
       "      <td>-0.225013</td>\n",
       "      <td>0.032563</td>\n",
       "      <td>-0.022693</td>\n",
       "      <td>-0.350071</td>\n",
       "      <td>0</td>\n",
       "    </tr>\n",
       "    <tr>\n",
       "      <th>199367</th>\n",
       "      <td>0.802626</td>\n",
       "      <td>-1.524832</td>\n",
       "      <td>-0.544095</td>\n",
       "      <td>-0.288824</td>\n",
       "      <td>-0.916791</td>\n",
       "      <td>3.524219</td>\n",
       "      <td>-1.830070</td>\n",
       "      <td>1.375925</td>\n",
       "      <td>-0.814647</td>\n",
       "      <td>-0.648070</td>\n",
       "      <td>-0.072189</td>\n",
       "      <td>1.020453</td>\n",
       "      <td>0.808519</td>\n",
       "      <td>0.179530</td>\n",
       "      <td>0.403686</td>\n",
       "      <td>-1.355320</td>\n",
       "      <td>-0.890292</td>\n",
       "      <td>-0.823874</td>\n",
       "      <td>-0.161798</td>\n",
       "      <td>-0.240885</td>\n",
       "      <td>-0.209666</td>\n",
       "      <td>0.272832</td>\n",
       "      <td>1.245119</td>\n",
       "      <td>-0.867245</td>\n",
       "      <td>0.838885</td>\n",
       "      <td>0.860487</td>\n",
       "      <td>-0.081074</td>\n",
       "      <td>-0.252743</td>\n",
       "      <td>-0.377957</td>\n",
       "      <td>-0.229689</td>\n",
       "      <td>0</td>\n",
       "    </tr>\n",
       "    <tr>\n",
       "      <th>199368</th>\n",
       "      <td>0.802647</td>\n",
       "      <td>0.099135</td>\n",
       "      <td>0.873164</td>\n",
       "      <td>-0.362487</td>\n",
       "      <td>-0.612234</td>\n",
       "      <td>0.747229</td>\n",
       "      <td>-0.629384</td>\n",
       "      <td>0.755890</td>\n",
       "      <td>0.126794</td>\n",
       "      <td>-0.051667</td>\n",
       "      <td>-0.613531</td>\n",
       "      <td>0.826612</td>\n",
       "      <td>-0.315592</td>\n",
       "      <td>-1.848798</td>\n",
       "      <td>-0.465431</td>\n",
       "      <td>-0.757847</td>\n",
       "      <td>0.571839</td>\n",
       "      <td>0.262660</td>\n",
       "      <td>0.450587</td>\n",
       "      <td>0.023705</td>\n",
       "      <td>-0.090654</td>\n",
       "      <td>-0.302759</td>\n",
       "      <td>-0.840999</td>\n",
       "      <td>0.115856</td>\n",
       "      <td>0.613080</td>\n",
       "      <td>-0.528392</td>\n",
       "      <td>0.092546</td>\n",
       "      <td>0.207960</td>\n",
       "      <td>0.071553</td>\n",
       "      <td>-0.346113</td>\n",
       "      <td>0</td>\n",
       "    </tr>\n",
       "    <tr>\n",
       "      <th>199369</th>\n",
       "      <td>0.802647</td>\n",
       "      <td>2.005556</td>\n",
       "      <td>-0.146704</td>\n",
       "      <td>-1.019430</td>\n",
       "      <td>0.330239</td>\n",
       "      <td>-0.180449</td>\n",
       "      <td>-0.953319</td>\n",
       "      <td>0.053860</td>\n",
       "      <td>-0.165823</td>\n",
       "      <td>0.352282</td>\n",
       "      <td>0.255342</td>\n",
       "      <td>0.953976</td>\n",
       "      <td>0.886864</td>\n",
       "      <td>-0.546470</td>\n",
       "      <td>0.579937</td>\n",
       "      <td>-0.610841</td>\n",
       "      <td>0.088436</td>\n",
       "      <td>-0.475671</td>\n",
       "      <td>-0.341351</td>\n",
       "      <td>0.402815</td>\n",
       "      <td>-0.241755</td>\n",
       "      <td>-0.235137</td>\n",
       "      <td>-0.613122</td>\n",
       "      <td>0.342269</td>\n",
       "      <td>0.063677</td>\n",
       "      <td>-0.359509</td>\n",
       "      <td>0.174021</td>\n",
       "      <td>-0.078440</td>\n",
       "      <td>-0.069642</td>\n",
       "      <td>-0.331760</td>\n",
       "      <td>0</td>\n",
       "    </tr>\n",
       "  </tbody>\n",
       "</table>\n",
       "</div>"
      ],
      "text/plain": [
       "            Time        V1        V2  ...       V28    Amount  Fraud\n",
       "199365  0.802626  2.152590 -0.900447  ... -0.044354 -0.129536      0\n",
       "199366  0.802626  1.811278  0.224393  ... -0.022693 -0.350071      0\n",
       "199367  0.802626 -1.524832 -0.544095  ... -0.377957 -0.229689      0\n",
       "199368  0.802647  0.099135  0.873164  ...  0.071553 -0.346113      0\n",
       "199369  0.802647  2.005556 -0.146704  ... -0.069642 -0.331760      0\n",
       "\n",
       "[5 rows x 31 columns]"
      ]
     },
     "execution_count": 24,
     "metadata": {
      "tags": []
     },
     "output_type": "execute_result"
    }
   ],
   "source": [
    "test_data.head()"
   ]
  },
  {
   "cell_type": "code",
   "execution_count": 25,
   "metadata": {
    "colab": {
     "base_uri": "https://localhost:8080/",
     "height": 221
    },
    "id": "fJxL4xAI5dBc",
    "outputId": "e489cda6-ab3e-4282-d42f-aeac152730ce"
   },
   "outputs": [
    {
     "data": {
      "text/html": [
       "<div>\n",
       "<style scoped>\n",
       "    .dataframe tbody tr th:only-of-type {\n",
       "        vertical-align: middle;\n",
       "    }\n",
       "\n",
       "    .dataframe tbody tr th {\n",
       "        vertical-align: top;\n",
       "    }\n",
       "\n",
       "    .dataframe thead th {\n",
       "        text-align: right;\n",
       "    }\n",
       "</style>\n",
       "<table border=\"1\" class=\"dataframe\">\n",
       "  <thead>\n",
       "    <tr style=\"text-align: right;\">\n",
       "      <th></th>\n",
       "      <th>Time</th>\n",
       "      <th>V1</th>\n",
       "      <th>V2</th>\n",
       "      <th>V3</th>\n",
       "      <th>V4</th>\n",
       "      <th>V5</th>\n",
       "      <th>V6</th>\n",
       "      <th>V7</th>\n",
       "      <th>V8</th>\n",
       "      <th>V9</th>\n",
       "      <th>V10</th>\n",
       "      <th>V11</th>\n",
       "      <th>V12</th>\n",
       "      <th>V13</th>\n",
       "      <th>V14</th>\n",
       "      <th>V15</th>\n",
       "      <th>V16</th>\n",
       "      <th>V17</th>\n",
       "      <th>V18</th>\n",
       "      <th>V19</th>\n",
       "      <th>V20</th>\n",
       "      <th>V21</th>\n",
       "      <th>V22</th>\n",
       "      <th>V23</th>\n",
       "      <th>V24</th>\n",
       "      <th>V25</th>\n",
       "      <th>V26</th>\n",
       "      <th>V27</th>\n",
       "      <th>V28</th>\n",
       "      <th>Amount</th>\n",
       "      <th>Fraud</th>\n",
       "    </tr>\n",
       "  </thead>\n",
       "  <tbody>\n",
       "    <tr>\n",
       "      <th>46846</th>\n",
       "      <td>-1.092082</td>\n",
       "      <td>-1.650726</td>\n",
       "      <td>1.173264</td>\n",
       "      <td>0.508510</td>\n",
       "      <td>0.740817</td>\n",
       "      <td>0.470490</td>\n",
       "      <td>1.565926</td>\n",
       "      <td>-1.192915</td>\n",
       "      <td>-1.867012</td>\n",
       "      <td>-0.747677</td>\n",
       "      <td>-0.905433</td>\n",
       "      <td>-0.281543</td>\n",
       "      <td>1.042355</td>\n",
       "      <td>0.183807</td>\n",
       "      <td>0.660813</td>\n",
       "      <td>-0.496259</td>\n",
       "      <td>-0.079472</td>\n",
       "      <td>0.002716</td>\n",
       "      <td>0.241684</td>\n",
       "      <td>1.191710</td>\n",
       "      <td>0.370294</td>\n",
       "      <td>-1.415126</td>\n",
       "      <td>0.185438</td>\n",
       "      <td>0.314975</td>\n",
       "      <td>-1.331399</td>\n",
       "      <td>-0.078826</td>\n",
       "      <td>-0.404131</td>\n",
       "      <td>-0.016491</td>\n",
       "      <td>0.025170</td>\n",
       "      <td>-0.306412</td>\n",
       "      <td>0</td>\n",
       "    </tr>\n",
       "    <tr>\n",
       "      <th>146237</th>\n",
       "      <td>-0.152793</td>\n",
       "      <td>-0.216313</td>\n",
       "      <td>0.645824</td>\n",
       "      <td>1.329953</td>\n",
       "      <td>1.135945</td>\n",
       "      <td>-0.651658</td>\n",
       "      <td>0.040221</td>\n",
       "      <td>-0.084567</td>\n",
       "      <td>-0.127728</td>\n",
       "      <td>0.262307</td>\n",
       "      <td>0.369306</td>\n",
       "      <td>-0.851833</td>\n",
       "      <td>0.011632</td>\n",
       "      <td>0.643984</td>\n",
       "      <td>-0.341033</td>\n",
       "      <td>1.535075</td>\n",
       "      <td>-0.862120</td>\n",
       "      <td>0.442922</td>\n",
       "      <td>0.487403</td>\n",
       "      <td>2.428530</td>\n",
       "      <td>0.185473</td>\n",
       "      <td>0.380905</td>\n",
       "      <td>1.313196</td>\n",
       "      <td>-0.123685</td>\n",
       "      <td>0.161884</td>\n",
       "      <td>-0.961154</td>\n",
       "      <td>0.952837</td>\n",
       "      <td>-0.171112</td>\n",
       "      <td>0.261904</td>\n",
       "      <td>-0.233327</td>\n",
       "      <td>0</td>\n",
       "    </tr>\n",
       "    <tr>\n",
       "      <th>95772</th>\n",
       "      <td>-0.618131</td>\n",
       "      <td>-0.931731</td>\n",
       "      <td>0.796669</td>\n",
       "      <td>1.624909</td>\n",
       "      <td>0.959804</td>\n",
       "      <td>1.000096</td>\n",
       "      <td>2.067261</td>\n",
       "      <td>0.494277</td>\n",
       "      <td>0.326703</td>\n",
       "      <td>-0.415601</td>\n",
       "      <td>0.206530</td>\n",
       "      <td>1.954914</td>\n",
       "      <td>1.057267</td>\n",
       "      <td>-0.215559</td>\n",
       "      <td>-0.006318</td>\n",
       "      <td>0.447675</td>\n",
       "      <td>-2.105022</td>\n",
       "      <td>1.195485</td>\n",
       "      <td>-1.739915</td>\n",
       "      <td>-0.095511</td>\n",
       "      <td>-0.099802</td>\n",
       "      <td>0.114731</td>\n",
       "      <td>0.727518</td>\n",
       "      <td>-0.189663</td>\n",
       "      <td>-0.984309</td>\n",
       "      <td>-0.206616</td>\n",
       "      <td>-0.175624</td>\n",
       "      <td>-0.358955</td>\n",
       "      <td>-0.111320</td>\n",
       "      <td>-0.254397</td>\n",
       "      <td>0</td>\n",
       "    </tr>\n",
       "    <tr>\n",
       "      <th>195413</th>\n",
       "      <td>0.762784</td>\n",
       "      <td>2.062967</td>\n",
       "      <td>0.603269</td>\n",
       "      <td>-3.170286</td>\n",
       "      <td>0.618982</td>\n",
       "      <td>1.222367</td>\n",
       "      <td>-1.368905</td>\n",
       "      <td>0.678477</td>\n",
       "      <td>-0.304216</td>\n",
       "      <td>-0.136744</td>\n",
       "      <td>-0.857420</td>\n",
       "      <td>1.660751</td>\n",
       "      <td>0.024277</td>\n",
       "      <td>-0.986229</td>\n",
       "      <td>-2.086288</td>\n",
       "      <td>-0.630069</td>\n",
       "      <td>0.543270</td>\n",
       "      <td>1.980518</td>\n",
       "      <td>1.113774</td>\n",
       "      <td>-0.024549</td>\n",
       "      <td>-0.160002</td>\n",
       "      <td>-0.023113</td>\n",
       "      <td>0.071242</td>\n",
       "      <td>-0.041643</td>\n",
       "      <td>0.576205</td>\n",
       "      <td>0.343119</td>\n",
       "      <td>0.661012</td>\n",
       "      <td>-0.089744</td>\n",
       "      <td>-0.024011</td>\n",
       "      <td>-0.350191</td>\n",
       "      <td>0</td>\n",
       "    </tr>\n",
       "    <tr>\n",
       "      <th>64350</th>\n",
       "      <td>-0.920165</td>\n",
       "      <td>1.324395</td>\n",
       "      <td>-0.595548</td>\n",
       "      <td>0.548615</td>\n",
       "      <td>0.023858</td>\n",
       "      <td>-1.005098</td>\n",
       "      <td>-0.040412</td>\n",
       "      <td>-0.746598</td>\n",
       "      <td>0.111001</td>\n",
       "      <td>-0.525578</td>\n",
       "      <td>0.787072</td>\n",
       "      <td>0.252943</td>\n",
       "      <td>0.320921</td>\n",
       "      <td>-0.625301</td>\n",
       "      <td>-0.018457</td>\n",
       "      <td>-1.116769</td>\n",
       "      <td>-1.510770</td>\n",
       "      <td>0.012446</td>\n",
       "      <td>1.479007</td>\n",
       "      <td>-0.152657</td>\n",
       "      <td>-0.572049</td>\n",
       "      <td>-0.454030</td>\n",
       "      <td>-0.656174</td>\n",
       "      <td>-0.024336</td>\n",
       "      <td>0.006270</td>\n",
       "      <td>0.427758</td>\n",
       "      <td>0.418687</td>\n",
       "      <td>0.003698</td>\n",
       "      <td>0.000711</td>\n",
       "      <td>-0.349231</td>\n",
       "      <td>0</td>\n",
       "    </tr>\n",
       "  </tbody>\n",
       "</table>\n",
       "</div>"
      ],
      "text/plain": [
       "            Time        V1        V2  ...       V28    Amount  Fraud\n",
       "46846  -1.092082 -1.650726  1.173264  ...  0.025170 -0.306412      0\n",
       "146237 -0.152793 -0.216313  0.645824  ...  0.261904 -0.233327      0\n",
       "95772  -0.618131 -0.931731  0.796669  ... -0.111320 -0.254397      0\n",
       "195413  0.762784  2.062967  0.603269  ... -0.024011 -0.350191      0\n",
       "64350  -0.920165  1.324395 -0.595548  ...  0.000711 -0.349231      0\n",
       "\n",
       "[5 rows x 31 columns]"
      ]
     },
     "execution_count": 25,
     "metadata": {
      "tags": []
     },
     "output_type": "execute_result"
    }
   ],
   "source": [
    "# Shuffling Training And Testing Data\n",
    "train_data = train_data.sample(frac=1)\n",
    "train_data.head()"
   ]
  },
  {
   "cell_type": "code",
   "execution_count": 26,
   "metadata": {
    "colab": {
     "base_uri": "https://localhost:8080/",
     "height": 221
    },
    "id": "6gCGM1A76qJp",
    "outputId": "1da46a48-fa3b-4cdf-d392-8015f9608102"
   },
   "outputs": [
    {
     "data": {
      "text/html": [
       "<div>\n",
       "<style scoped>\n",
       "    .dataframe tbody tr th:only-of-type {\n",
       "        vertical-align: middle;\n",
       "    }\n",
       "\n",
       "    .dataframe tbody tr th {\n",
       "        vertical-align: top;\n",
       "    }\n",
       "\n",
       "    .dataframe thead th {\n",
       "        text-align: right;\n",
       "    }\n",
       "</style>\n",
       "<table border=\"1\" class=\"dataframe\">\n",
       "  <thead>\n",
       "    <tr style=\"text-align: right;\">\n",
       "      <th></th>\n",
       "      <th>Time</th>\n",
       "      <th>V1</th>\n",
       "      <th>V2</th>\n",
       "      <th>V3</th>\n",
       "      <th>V4</th>\n",
       "      <th>V5</th>\n",
       "      <th>V6</th>\n",
       "      <th>V7</th>\n",
       "      <th>V8</th>\n",
       "      <th>V9</th>\n",
       "      <th>V10</th>\n",
       "      <th>V11</th>\n",
       "      <th>V12</th>\n",
       "      <th>V13</th>\n",
       "      <th>V14</th>\n",
       "      <th>V15</th>\n",
       "      <th>V16</th>\n",
       "      <th>V17</th>\n",
       "      <th>V18</th>\n",
       "      <th>V19</th>\n",
       "      <th>V20</th>\n",
       "      <th>V21</th>\n",
       "      <th>V22</th>\n",
       "      <th>V23</th>\n",
       "      <th>V24</th>\n",
       "      <th>V25</th>\n",
       "      <th>V26</th>\n",
       "      <th>V27</th>\n",
       "      <th>V28</th>\n",
       "      <th>Amount</th>\n",
       "      <th>Fraud</th>\n",
       "    </tr>\n",
       "  </thead>\n",
       "  <tbody>\n",
       "    <tr>\n",
       "      <th>279173</th>\n",
       "      <td>1.555615</td>\n",
       "      <td>2.061369</td>\n",
       "      <td>0.045790</td>\n",
       "      <td>-1.761601</td>\n",
       "      <td>0.264950</td>\n",
       "      <td>0.569283</td>\n",
       "      <td>-0.764322</td>\n",
       "      <td>0.484737</td>\n",
       "      <td>-0.315270</td>\n",
       "      <td>0.235729</td>\n",
       "      <td>0.076834</td>\n",
       "      <td>0.630349</td>\n",
       "      <td>1.453843</td>\n",
       "      <td>0.587328</td>\n",
       "      <td>0.501449</td>\n",
       "      <td>-1.027628</td>\n",
       "      <td>-0.594718</td>\n",
       "      <td>-0.470130</td>\n",
       "      <td>-0.202454</td>\n",
       "      <td>0.596850</td>\n",
       "      <td>-0.210085</td>\n",
       "      <td>0.034840</td>\n",
       "      <td>0.369721</td>\n",
       "      <td>-0.028614</td>\n",
       "      <td>-0.416919</td>\n",
       "      <td>0.398602</td>\n",
       "      <td>-0.212642</td>\n",
       "      <td>-0.031261</td>\n",
       "      <td>-0.080229</td>\n",
       "      <td>-0.349231</td>\n",
       "      <td>0</td>\n",
       "    </tr>\n",
       "    <tr>\n",
       "      <th>269822</th>\n",
       "      <td>1.452494</td>\n",
       "      <td>-0.233558</td>\n",
       "      <td>1.311785</td>\n",
       "      <td>-0.774842</td>\n",
       "      <td>-0.514552</td>\n",
       "      <td>0.733885</td>\n",
       "      <td>-0.752661</td>\n",
       "      <td>0.714606</td>\n",
       "      <td>0.272744</td>\n",
       "      <td>-0.402667</td>\n",
       "      <td>-1.111522</td>\n",
       "      <td>-0.610371</td>\n",
       "      <td>0.697593</td>\n",
       "      <td>1.290437</td>\n",
       "      <td>-0.937384</td>\n",
       "      <td>-0.360378</td>\n",
       "      <td>0.350113</td>\n",
       "      <td>0.508834</td>\n",
       "      <td>-0.399770</td>\n",
       "      <td>-0.304388</td>\n",
       "      <td>0.015576</td>\n",
       "      <td>-0.272456</td>\n",
       "      <td>-0.731518</td>\n",
       "      <td>0.167808</td>\n",
       "      <td>0.530615</td>\n",
       "      <td>-0.361323</td>\n",
       "      <td>0.117150</td>\n",
       "      <td>0.104205</td>\n",
       "      <td>0.020820</td>\n",
       "      <td>-0.289020</td>\n",
       "      <td>0</td>\n",
       "    </tr>\n",
       "    <tr>\n",
       "      <th>210887</th>\n",
       "      <td>0.912885</td>\n",
       "      <td>1.901158</td>\n",
       "      <td>0.012325</td>\n",
       "      <td>-1.832151</td>\n",
       "      <td>0.369465</td>\n",
       "      <td>0.767870</td>\n",
       "      <td>0.033775</td>\n",
       "      <td>0.025756</td>\n",
       "      <td>0.061994</td>\n",
       "      <td>0.603337</td>\n",
       "      <td>-0.615526</td>\n",
       "      <td>0.287901</td>\n",
       "      <td>0.245088</td>\n",
       "      <td>-0.194971</td>\n",
       "      <td>-0.610283</td>\n",
       "      <td>1.735377</td>\n",
       "      <td>-0.718975</td>\n",
       "      <td>1.284218</td>\n",
       "      <td>-0.915317</td>\n",
       "      <td>-1.572731</td>\n",
       "      <td>-0.294645</td>\n",
       "      <td>0.285837</td>\n",
       "      <td>1.083539</td>\n",
       "      <td>0.059779</td>\n",
       "      <td>-1.100482</td>\n",
       "      <td>0.016975</td>\n",
       "      <td>-0.004016</td>\n",
       "      <td>0.048042</td>\n",
       "      <td>-0.041247</td>\n",
       "      <td>-0.296776</td>\n",
       "      <td>0</td>\n",
       "    </tr>\n",
       "    <tr>\n",
       "      <th>278776</th>\n",
       "      <td>1.550119</td>\n",
       "      <td>-0.469669</td>\n",
       "      <td>-0.809982</td>\n",
       "      <td>-0.524369</td>\n",
       "      <td>0.389065</td>\n",
       "      <td>2.115788</td>\n",
       "      <td>-1.480763</td>\n",
       "      <td>-0.420444</td>\n",
       "      <td>0.147660</td>\n",
       "      <td>-0.147314</td>\n",
       "      <td>-0.356163</td>\n",
       "      <td>1.025580</td>\n",
       "      <td>0.294410</td>\n",
       "      <td>-0.784247</td>\n",
       "      <td>-0.496858</td>\n",
       "      <td>-0.369749</td>\n",
       "      <td>0.197797</td>\n",
       "      <td>0.523012</td>\n",
       "      <td>0.483099</td>\n",
       "      <td>0.842804</td>\n",
       "      <td>0.298441</td>\n",
       "      <td>-0.092398</td>\n",
       "      <td>-0.695913</td>\n",
       "      <td>0.524629</td>\n",
       "      <td>0.643250</td>\n",
       "      <td>-0.917730</td>\n",
       "      <td>0.145030</td>\n",
       "      <td>-0.045893</td>\n",
       "      <td>0.046066</td>\n",
       "      <td>-0.345313</td>\n",
       "      <td>0</td>\n",
       "    </tr>\n",
       "    <tr>\n",
       "      <th>282135</th>\n",
       "      <td>1.597604</td>\n",
       "      <td>-2.500715</td>\n",
       "      <td>0.377341</td>\n",
       "      <td>0.728890</td>\n",
       "      <td>-0.741895</td>\n",
       "      <td>-0.936535</td>\n",
       "      <td>-0.379833</td>\n",
       "      <td>0.229319</td>\n",
       "      <td>1.017676</td>\n",
       "      <td>0.044076</td>\n",
       "      <td>-1.135476</td>\n",
       "      <td>0.329547</td>\n",
       "      <td>0.733330</td>\n",
       "      <td>-1.024486</td>\n",
       "      <td>0.755377</td>\n",
       "      <td>-0.897973</td>\n",
       "      <td>0.324421</td>\n",
       "      <td>-0.096904</td>\n",
       "      <td>0.122345</td>\n",
       "      <td>0.509794</td>\n",
       "      <td>0.070750</td>\n",
       "      <td>-0.332425</td>\n",
       "      <td>-1.183012</td>\n",
       "      <td>0.012037</td>\n",
       "      <td>0.024447</td>\n",
       "      <td>0.412708</td>\n",
       "      <td>-0.292326</td>\n",
       "      <td>0.217215</td>\n",
       "      <td>-0.149903</td>\n",
       "      <td>0.210421</td>\n",
       "      <td>0</td>\n",
       "    </tr>\n",
       "  </tbody>\n",
       "</table>\n",
       "</div>"
      ],
      "text/plain": [
       "            Time        V1        V2  ...       V28    Amount  Fraud\n",
       "279173  1.555615  2.061369  0.045790  ... -0.080229 -0.349231      0\n",
       "269822  1.452494 -0.233558  1.311785  ...  0.020820 -0.289020      0\n",
       "210887  0.912885  1.901158  0.012325  ... -0.041247 -0.296776      0\n",
       "278776  1.550119 -0.469669 -0.809982  ...  0.046066 -0.345313      0\n",
       "282135  1.597604 -2.500715  0.377341  ... -0.149903  0.210421      0\n",
       "\n",
       "[5 rows x 31 columns]"
      ]
     },
     "execution_count": 26,
     "metadata": {
      "tags": []
     },
     "output_type": "execute_result"
    }
   ],
   "source": [
    "test_data = test_data.sample(frac = 1)\n",
    "test_data.head()"
   ]
  },
  {
   "cell_type": "code",
   "execution_count": 27,
   "metadata": {
    "id": "6h94jL_m6386"
   },
   "outputs": [],
   "source": [
    "# Droping Labels From Training And Testing Data\n",
    "train_labels = train_data.pop('Fraud')\n",
    "# train_labels = train_labels.values\n",
    "test_labels = test_data.pop('Fraud')\n",
    "# test_labels = test_labels.values"
   ]
  },
  {
   "cell_type": "code",
   "execution_count": 28,
   "metadata": {
    "colab": {
     "base_uri": "https://localhost:8080/"
    },
    "id": "Wphs0xZT7ZBZ",
    "outputId": "9b56ffdc-70e5-4ced-e16f-f922d48b7830"
   },
   "outputs": [
    {
     "data": {
      "text/plain": [
       "46846     0\n",
       "146237    0\n",
       "95772     0\n",
       "195413    0\n",
       "64350     0\n",
       "         ..\n",
       "100049    0\n",
       "58218     0\n",
       "140402    0\n",
       "61512     0\n",
       "162824    0\n",
       "Name: Fraud, Length: 199365, dtype: int64"
      ]
     },
     "execution_count": 28,
     "metadata": {
      "tags": []
     },
     "output_type": "execute_result"
    }
   ],
   "source": [
    "train_labels "
   ]
  },
  {
   "cell_type": "code",
   "execution_count": 30,
   "metadata": {
    "colab": {
     "base_uri": "https://localhost:8080/"
    },
    "id": "zBxfHoHX7eMD",
    "outputId": "8458fa11-c716-4257-f04f-cef8da13c90f"
   },
   "outputs": [
    {
     "data": {
      "text/plain": [
       "279173    0\n",
       "269822    0\n",
       "210887    0\n",
       "278776    0\n",
       "282135    0\n",
       "         ..\n",
       "256612    0\n",
       "237842    0\n",
       "252938    0\n",
       "265341    0\n",
       "273047    0\n",
       "Name: Fraud, Length: 85442, dtype: int64"
      ]
     },
     "execution_count": 30,
     "metadata": {
      "tags": []
     },
     "output_type": "execute_result"
    }
   ],
   "source": [
    "test_labels"
   ]
  },
  {
   "cell_type": "code",
   "execution_count": 31,
   "metadata": {
    "colab": {
     "base_uri": "https://localhost:8080/"
    },
    "id": "9SO6glL5ZxrM",
    "outputId": "8e43e303-13bb-43e0-ef44-e074d54897e9"
   },
   "outputs": [
    {
     "name": "stdout",
     "output_type": "stream",
     "text": [
      "Model: \"sequential\"\n",
      "_________________________________________________________________\n",
      "Layer (type)                 Output Shape              Param #   \n",
      "=================================================================\n",
      "dense (Dense)                (None, 10)                310       \n",
      "_________________________________________________________________\n",
      "dense_1 (Dense)              (None, 8)                 88        \n",
      "_________________________________________________________________\n",
      "dense_2 (Dense)              (None, 6)                 54        \n",
      "_________________________________________________________________\n",
      "dense_3 (Dense)              (None, 1)                 7         \n",
      "=================================================================\n",
      "Total params: 459\n",
      "Trainable params: 459\n",
      "Non-trainable params: 0\n",
      "_________________________________________________________________\n"
     ]
    }
   ],
   "source": [
    "# Building Base Model\n",
    "model = Sequential()\n",
    "model.add(Dense(10, activation = 'relu', input_shape = [len(train_data.keys())]))\n",
    "model.add(Dense(8, activation = 'relu'))\n",
    "model.add(Dense(6, activation = 'relu'))\n",
    "model.add(Dense(1, activation='sigmoid'))\n",
    "model.compile(optimizer = 'adam', loss = 'binary_crossentropy', metrics = ['accuracy'])\n",
    "model.summary()"
   ]
  },
  {
   "cell_type": "code",
   "execution_count": 32,
   "metadata": {
    "id": "8EJqcdyZ_dGm"
   },
   "outputs": [],
   "source": [
    "from keras.callbacks import ModelCheckpoint, TensorBoard\n",
    "checkpointer = ModelCheckpoint(filepath = 'CreditCardFraudDetectionModel.h5', verbose = 0, save_best_only = True)\n",
    "tensorboard = TensorBoard(log_dir = './logs', histogram_freq = 0, write_graph = True, write_images = True)"
   ]
  },
  {
   "cell_type": "code",
   "execution_count": 33,
   "metadata": {
    "colab": {
     "base_uri": "https://localhost:8080/"
    },
    "id": "Px_es8qxAP8X",
    "outputId": "c865b5a9-f47d-4af3-9865-e4a207a7266e"
   },
   "outputs": [
    {
     "name": "stdout",
     "output_type": "stream",
     "text": [
      "Epoch 1/100\n",
      "4985/4985 [==============================] - 8s 2ms/step - loss: 0.0847 - accuracy: 0.9757 - val_loss: 0.0038 - val_accuracy: 0.9993\n",
      "Epoch 2/100\n",
      "4985/4985 [==============================] - 7s 1ms/step - loss: 0.0032 - accuracy: 0.9992 - val_loss: 0.0032 - val_accuracy: 0.9994\n",
      "Epoch 3/100\n",
      "4985/4985 [==============================] - 7s 1ms/step - loss: 0.0029 - accuracy: 0.9993 - val_loss: 0.0036 - val_accuracy: 0.9992\n",
      "Epoch 4/100\n",
      "4985/4985 [==============================] - 7s 1ms/step - loss: 0.0032 - accuracy: 0.9992 - val_loss: 0.0033 - val_accuracy: 0.9993\n",
      "Epoch 5/100\n",
      "4985/4985 [==============================] - 7s 1ms/step - loss: 0.0031 - accuracy: 0.9993 - val_loss: 0.0037 - val_accuracy: 0.9992\n",
      "Epoch 6/100\n",
      "4985/4985 [==============================] - 8s 2ms/step - loss: 0.0026 - accuracy: 0.9993 - val_loss: 0.0033 - val_accuracy: 0.9992\n",
      "Epoch 7/100\n",
      "4985/4985 [==============================] - 7s 1ms/step - loss: 0.0026 - accuracy: 0.9993 - val_loss: 0.0038 - val_accuracy: 0.9992\n",
      "Epoch 8/100\n",
      "4985/4985 [==============================] - 7s 1ms/step - loss: 0.0026 - accuracy: 0.9993 - val_loss: 0.0034 - val_accuracy: 0.9993\n",
      "Epoch 9/100\n",
      "4985/4985 [==============================] - 7s 1ms/step - loss: 0.0023 - accuracy: 0.9994 - val_loss: 0.0031 - val_accuracy: 0.9992\n",
      "Epoch 10/100\n",
      "4985/4985 [==============================] - 7s 1ms/step - loss: 0.0024 - accuracy: 0.9994 - val_loss: 0.0032 - val_accuracy: 0.9992\n",
      "Epoch 11/100\n",
      "4985/4985 [==============================] - 7s 1ms/step - loss: 0.0020 - accuracy: 0.9995 - val_loss: 0.0033 - val_accuracy: 0.9992\n",
      "Epoch 12/100\n",
      "4985/4985 [==============================] - 7s 1ms/step - loss: 0.0023 - accuracy: 0.9995 - val_loss: 0.0032 - val_accuracy: 0.9992\n",
      "Epoch 13/100\n",
      "4985/4985 [==============================] - 8s 2ms/step - loss: 0.0022 - accuracy: 0.9994 - val_loss: 0.0034 - val_accuracy: 0.9991\n",
      "Epoch 14/100\n",
      "4985/4985 [==============================] - 7s 1ms/step - loss: 0.0020 - accuracy: 0.9994 - val_loss: 0.0034 - val_accuracy: 0.9992\n",
      "Epoch 15/100\n",
      "4985/4985 [==============================] - 7s 1ms/step - loss: 0.0022 - accuracy: 0.9993 - val_loss: 0.0036 - val_accuracy: 0.9992\n",
      "Epoch 16/100\n",
      "4985/4985 [==============================] - 7s 1ms/step - loss: 0.0027 - accuracy: 0.9994 - val_loss: 0.0037 - val_accuracy: 0.9991\n",
      "Epoch 17/100\n",
      "4985/4985 [==============================] - 7s 1ms/step - loss: 0.0022 - accuracy: 0.9994 - val_loss: 0.0034 - val_accuracy: 0.9992\n",
      "Epoch 18/100\n",
      "4985/4985 [==============================] - 7s 1ms/step - loss: 0.0022 - accuracy: 0.9994 - val_loss: 0.0039 - val_accuracy: 0.9991\n",
      "Epoch 19/100\n",
      "4985/4985 [==============================] - 8s 2ms/step - loss: 0.0021 - accuracy: 0.9995 - val_loss: 0.0042 - val_accuracy: 0.9990\n",
      "Epoch 20/100\n",
      "4985/4985 [==============================] - 7s 1ms/step - loss: 0.0018 - accuracy: 0.9995 - val_loss: 0.0034 - val_accuracy: 0.9992\n",
      "Epoch 21/100\n",
      "4985/4985 [==============================] - 7s 1ms/step - loss: 0.0021 - accuracy: 0.9995 - val_loss: 0.0037 - val_accuracy: 0.9991\n",
      "Epoch 22/100\n",
      "4985/4985 [==============================] - 7s 1ms/step - loss: 0.0019 - accuracy: 0.9995 - val_loss: 0.0041 - val_accuracy: 0.9991\n",
      "Epoch 23/100\n",
      "4985/4985 [==============================] - 7s 1ms/step - loss: 0.0017 - accuracy: 0.9995 - val_loss: 0.0037 - val_accuracy: 0.9992\n",
      "Epoch 24/100\n",
      "4985/4985 [==============================] - 7s 1ms/step - loss: 0.0018 - accuracy: 0.9996 - val_loss: 0.0035 - val_accuracy: 0.9993\n",
      "Epoch 25/100\n",
      "4985/4985 [==============================] - 7s 1ms/step - loss: 0.0017 - accuracy: 0.9995 - val_loss: 0.0035 - val_accuracy: 0.9992\n",
      "Epoch 26/100\n",
      "4985/4985 [==============================] - 7s 1ms/step - loss: 0.0019 - accuracy: 0.9994 - val_loss: 0.0039 - val_accuracy: 0.9990\n",
      "Epoch 27/100\n",
      "4985/4985 [==============================] - 8s 2ms/step - loss: 0.0019 - accuracy: 0.9995 - val_loss: 0.0038 - val_accuracy: 0.9991\n",
      "Epoch 28/100\n",
      "4985/4985 [==============================] - 8s 2ms/step - loss: 0.0020 - accuracy: 0.9994 - val_loss: 0.0043 - val_accuracy: 0.9990\n",
      "Epoch 29/100\n",
      "4985/4985 [==============================] - 8s 2ms/step - loss: 0.0019 - accuracy: 0.9995 - val_loss: 0.0045 - val_accuracy: 0.9990\n",
      "Epoch 30/100\n",
      "4985/4985 [==============================] - 7s 1ms/step - loss: 0.0021 - accuracy: 0.9995 - val_loss: 0.0043 - val_accuracy: 0.9992\n",
      "Epoch 31/100\n",
      "4985/4985 [==============================] - 7s 1ms/step - loss: 0.0016 - accuracy: 0.9994 - val_loss: 0.0041 - val_accuracy: 0.9991\n",
      "Epoch 32/100\n",
      "4985/4985 [==============================] - 7s 1ms/step - loss: 0.0014 - accuracy: 0.9996 - val_loss: 0.0042 - val_accuracy: 0.9991\n",
      "Epoch 33/100\n",
      "4985/4985 [==============================] - 7s 1ms/step - loss: 0.0016 - accuracy: 0.9995 - val_loss: 0.0042 - val_accuracy: 0.9992\n",
      "Epoch 34/100\n",
      "4985/4985 [==============================] - 7s 1ms/step - loss: 0.0016 - accuracy: 0.9996 - val_loss: 0.0041 - val_accuracy: 0.9992\n",
      "Epoch 35/100\n",
      "4985/4985 [==============================] - 7s 1ms/step - loss: 0.0015 - accuracy: 0.9996 - val_loss: 0.0042 - val_accuracy: 0.9991\n",
      "Epoch 36/100\n",
      "4985/4985 [==============================] - 7s 1ms/step - loss: 0.0018 - accuracy: 0.9994 - val_loss: 0.0049 - val_accuracy: 0.9990\n",
      "Epoch 37/100\n",
      "4985/4985 [==============================] - 9s 2ms/step - loss: 0.0017 - accuracy: 0.9995 - val_loss: 0.0046 - val_accuracy: 0.9988\n",
      "Epoch 38/100\n",
      "4985/4985 [==============================] - 8s 2ms/step - loss: 0.0021 - accuracy: 0.9995 - val_loss: 0.0045 - val_accuracy: 0.9992\n",
      "Epoch 39/100\n",
      "4985/4985 [==============================] - 7s 1ms/step - loss: 0.0018 - accuracy: 0.9994 - val_loss: 0.0045 - val_accuracy: 0.9991\n",
      "Epoch 40/100\n",
      "4985/4985 [==============================] - 7s 1ms/step - loss: 0.0015 - accuracy: 0.9995 - val_loss: 0.0043 - val_accuracy: 0.9992\n",
      "Epoch 41/100\n",
      "4985/4985 [==============================] - 7s 1ms/step - loss: 0.0016 - accuracy: 0.9995 - val_loss: 0.0051 - val_accuracy: 0.9991\n",
      "Epoch 42/100\n",
      "4985/4985 [==============================] - 7s 1ms/step - loss: 0.0015 - accuracy: 0.9996 - val_loss: 0.0047 - val_accuracy: 0.9991\n",
      "Epoch 43/100\n",
      "4985/4985 [==============================] - 7s 1ms/step - loss: 0.0019 - accuracy: 0.9995 - val_loss: 0.0056 - val_accuracy: 0.9990\n",
      "Epoch 44/100\n",
      "4985/4985 [==============================] - 7s 1ms/step - loss: 0.0015 - accuracy: 0.9996 - val_loss: 0.0052 - val_accuracy: 0.9988\n",
      "Epoch 45/100\n",
      "4985/4985 [==============================] - 7s 1ms/step - loss: 0.0016 - accuracy: 0.9995 - val_loss: 0.0051 - val_accuracy: 0.9991\n",
      "Epoch 46/100\n",
      "4985/4985 [==============================] - 7s 1ms/step - loss: 0.0014 - accuracy: 0.9996 - val_loss: 0.0048 - val_accuracy: 0.9991\n",
      "Epoch 47/100\n",
      "4985/4985 [==============================] - 8s 2ms/step - loss: 0.0019 - accuracy: 0.9995 - val_loss: 0.0052 - val_accuracy: 0.9991\n",
      "Epoch 48/100\n",
      "4985/4985 [==============================] - 8s 2ms/step - loss: 0.0015 - accuracy: 0.9995 - val_loss: 0.0048 - val_accuracy: 0.9991\n",
      "Epoch 49/100\n",
      "4985/4985 [==============================] - 8s 2ms/step - loss: 0.0015 - accuracy: 0.9997 - val_loss: 0.0048 - val_accuracy: 0.9991\n",
      "Epoch 50/100\n",
      "4985/4985 [==============================] - 7s 1ms/step - loss: 0.0014 - accuracy: 0.9996 - val_loss: 0.0055 - val_accuracy: 0.9989\n",
      "Epoch 51/100\n",
      "4985/4985 [==============================] - 7s 1ms/step - loss: 0.0014 - accuracy: 0.9995 - val_loss: 0.0050 - val_accuracy: 0.9992\n",
      "Epoch 52/100\n",
      "4985/4985 [==============================] - 7s 1ms/step - loss: 0.0014 - accuracy: 0.9995 - val_loss: 0.0052 - val_accuracy: 0.9990\n",
      "Epoch 53/100\n",
      "4985/4985 [==============================] - 7s 1ms/step - loss: 0.0014 - accuracy: 0.9996 - val_loss: 0.0052 - val_accuracy: 0.9991\n",
      "Epoch 54/100\n",
      "4985/4985 [==============================] - 7s 1ms/step - loss: 0.0014 - accuracy: 0.9995 - val_loss: 0.0050 - val_accuracy: 0.9991\n",
      "Epoch 55/100\n",
      "4985/4985 [==============================] - 7s 1ms/step - loss: 0.0014 - accuracy: 0.9996 - val_loss: 0.0056 - val_accuracy: 0.9991\n",
      "Epoch 56/100\n",
      "4985/4985 [==============================] - 7s 1ms/step - loss: 0.0013 - accuracy: 0.9996 - val_loss: 0.0058 - val_accuracy: 0.9990\n",
      "Epoch 57/100\n",
      "4985/4985 [==============================] - 7s 1ms/step - loss: 0.0015 - accuracy: 0.9995 - val_loss: 0.0060 - val_accuracy: 0.9992\n",
      "Epoch 58/100\n",
      "4985/4985 [==============================] - 8s 2ms/step - loss: 0.0013 - accuracy: 0.9996 - val_loss: 0.0054 - val_accuracy: 0.9991\n",
      "Epoch 59/100\n",
      "4985/4985 [==============================] - 8s 2ms/step - loss: 0.0016 - accuracy: 0.9995 - val_loss: 0.0062 - val_accuracy: 0.9990\n",
      "Epoch 60/100\n",
      "4985/4985 [==============================] - 8s 2ms/step - loss: 0.0015 - accuracy: 0.9996 - val_loss: 0.0055 - val_accuracy: 0.9992\n",
      "Epoch 61/100\n",
      "4985/4985 [==============================] - 8s 2ms/step - loss: 0.0014 - accuracy: 0.9995 - val_loss: 0.0058 - val_accuracy: 0.9992\n",
      "Epoch 62/100\n",
      "4985/4985 [==============================] - 7s 1ms/step - loss: 0.0013 - accuracy: 0.9996 - val_loss: 0.0059 - val_accuracy: 0.9991\n",
      "Epoch 63/100\n",
      "4985/4985 [==============================] - 7s 1ms/step - loss: 0.0015 - accuracy: 0.9995 - val_loss: 0.0057 - val_accuracy: 0.9991\n",
      "Epoch 64/100\n",
      "4985/4985 [==============================] - 7s 1ms/step - loss: 0.0010 - accuracy: 0.9996 - val_loss: 0.0060 - val_accuracy: 0.9992\n",
      "Epoch 65/100\n",
      "4985/4985 [==============================] - 7s 1ms/step - loss: 0.0013 - accuracy: 0.9996 - val_loss: 0.0062 - val_accuracy: 0.9991\n",
      "Epoch 66/100\n",
      "4985/4985 [==============================] - 7s 1ms/step - loss: 0.0012 - accuracy: 0.9997 - val_loss: 0.0059 - val_accuracy: 0.9992\n",
      "Epoch 67/100\n",
      "4985/4985 [==============================] - 7s 1ms/step - loss: 0.0012 - accuracy: 0.9996 - val_loss: 0.0066 - val_accuracy: 0.9991\n",
      "Epoch 68/100\n",
      "4985/4985 [==============================] - 7s 1ms/step - loss: 0.0013 - accuracy: 0.9996 - val_loss: 0.0056 - val_accuracy: 0.9991\n",
      "Epoch 69/100\n",
      "4985/4985 [==============================] - 7s 1ms/step - loss: 0.0013 - accuracy: 0.9996 - val_loss: 0.0062 - val_accuracy: 0.9991\n",
      "Epoch 70/100\n",
      "4985/4985 [==============================] - 7s 1ms/step - loss: 0.0013 - accuracy: 0.9996 - val_loss: 0.0065 - val_accuracy: 0.9992\n",
      "Epoch 71/100\n",
      "4985/4985 [==============================] - 7s 1ms/step - loss: 0.0014 - accuracy: 0.9996 - val_loss: 0.0064 - val_accuracy: 0.9990\n",
      "Epoch 72/100\n",
      "4985/4985 [==============================] - 8s 2ms/step - loss: 0.0013 - accuracy: 0.9995 - val_loss: 0.0064 - val_accuracy: 0.9992\n",
      "Epoch 73/100\n",
      "4985/4985 [==============================] - 7s 1ms/step - loss: 0.0012 - accuracy: 0.9996 - val_loss: 0.0069 - val_accuracy: 0.9991\n",
      "Epoch 74/100\n",
      "4985/4985 [==============================] - 7s 1ms/step - loss: 0.0017 - accuracy: 0.9995 - val_loss: 0.0068 - val_accuracy: 0.9991\n",
      "Epoch 75/100\n",
      "4985/4985 [==============================] - 7s 1ms/step - loss: 0.0015 - accuracy: 0.9996 - val_loss: 0.0067 - val_accuracy: 0.9991\n",
      "Epoch 76/100\n",
      "4985/4985 [==============================] - 7s 1ms/step - loss: 0.0012 - accuracy: 0.9996 - val_loss: 0.0071 - val_accuracy: 0.9992\n",
      "Epoch 77/100\n",
      "4985/4985 [==============================] - 7s 1ms/step - loss: 0.0015 - accuracy: 0.9996 - val_loss: 0.0077 - val_accuracy: 0.9991\n",
      "Epoch 78/100\n",
      "4985/4985 [==============================] - 7s 1ms/step - loss: 0.0012 - accuracy: 0.9997 - val_loss: 0.0068 - val_accuracy: 0.9992\n",
      "Epoch 79/100\n",
      "4985/4985 [==============================] - 7s 1ms/step - loss: 0.0013 - accuracy: 0.9996 - val_loss: 0.0079 - val_accuracy: 0.9990\n",
      "Epoch 80/100\n",
      "4985/4985 [==============================] - 7s 1ms/step - loss: 0.0014 - accuracy: 0.9996 - val_loss: 0.0072 - val_accuracy: 0.9991\n",
      "Epoch 81/100\n",
      "4985/4985 [==============================] - 7s 1ms/step - loss: 0.0011 - accuracy: 0.9997 - val_loss: 0.0078 - val_accuracy: 0.9992\n",
      "Epoch 82/100\n",
      "4985/4985 [==============================] - 8s 2ms/step - loss: 0.0011 - accuracy: 0.9996 - val_loss: 0.0074 - val_accuracy: 0.9990\n",
      "Epoch 83/100\n",
      "4985/4985 [==============================] - 8s 2ms/step - loss: 0.0012 - accuracy: 0.9996 - val_loss: 0.0080 - val_accuracy: 0.9990\n",
      "Epoch 84/100\n",
      "4985/4985 [==============================] - 8s 2ms/step - loss: 0.0010 - accuracy: 0.9997 - val_loss: 0.0081 - val_accuracy: 0.9991\n",
      "Epoch 85/100\n",
      "4985/4985 [==============================] - 8s 2ms/step - loss: 0.0012 - accuracy: 0.9997 - val_loss: 0.0081 - val_accuracy: 0.9992\n",
      "Epoch 86/100\n",
      "4985/4985 [==============================] - 8s 2ms/step - loss: 9.7924e-04 - accuracy: 0.9997 - val_loss: 0.0079 - val_accuracy: 0.9990\n",
      "Epoch 87/100\n",
      "4985/4985 [==============================] - 7s 1ms/step - loss: 0.0013 - accuracy: 0.9996 - val_loss: 0.0071 - val_accuracy: 0.9991\n",
      "Epoch 88/100\n",
      "4985/4985 [==============================] - 7s 1ms/step - loss: 0.0012 - accuracy: 0.9996 - val_loss: 0.0082 - val_accuracy: 0.9991\n",
      "Epoch 89/100\n",
      "4985/4985 [==============================] - 7s 1ms/step - loss: 0.0012 - accuracy: 0.9997 - val_loss: 0.0082 - val_accuracy: 0.9991\n",
      "Epoch 90/100\n",
      "4985/4985 [==============================] - 7s 1ms/step - loss: 0.0013 - accuracy: 0.9996 - val_loss: 0.0078 - val_accuracy: 0.9991\n",
      "Epoch 91/100\n",
      "4985/4985 [==============================] - 8s 2ms/step - loss: 0.0014 - accuracy: 0.9995 - val_loss: 0.0088 - val_accuracy: 0.9991\n",
      "Epoch 92/100\n",
      "4985/4985 [==============================] - 8s 2ms/step - loss: 0.0014 - accuracy: 0.9995 - val_loss: 0.0081 - val_accuracy: 0.9991\n",
      "Epoch 93/100\n",
      "4985/4985 [==============================] - 7s 1ms/step - loss: 0.0012 - accuracy: 0.9996 - val_loss: 0.0087 - val_accuracy: 0.9989\n",
      "Epoch 94/100\n",
      "4985/4985 [==============================] - 7s 1ms/step - loss: 0.0013 - accuracy: 0.9996 - val_loss: 0.0077 - val_accuracy: 0.9991\n",
      "Epoch 95/100\n",
      "4985/4985 [==============================] - 7s 1ms/step - loss: 0.0014 - accuracy: 0.9996 - val_loss: 0.0083 - val_accuracy: 0.9991\n",
      "Epoch 96/100\n",
      "4985/4985 [==============================] - 7s 1ms/step - loss: 0.0012 - accuracy: 0.9996 - val_loss: 0.0075 - val_accuracy: 0.9991\n",
      "Epoch 97/100\n",
      "4985/4985 [==============================] - 7s 1ms/step - loss: 0.0010 - accuracy: 0.9996 - val_loss: 0.0078 - val_accuracy: 0.9991\n",
      "Epoch 98/100\n",
      "4985/4985 [==============================] - 7s 1ms/step - loss: 0.0010 - accuracy: 0.9997 - val_loss: 0.0089 - val_accuracy: 0.9991\n",
      "Epoch 99/100\n",
      "4985/4985 [==============================] - 8s 2ms/step - loss: 0.0013 - accuracy: 0.9996 - val_loss: 0.0081 - val_accuracy: 0.9991\n",
      "Epoch 100/100\n",
      "4985/4985 [==============================] - 7s 1ms/step - loss: 0.0011 - accuracy: 0.9996 - val_loss: 0.0080 - val_accuracy: 0.9991\n"
     ]
    }
   ],
   "source": [
    "# Fitting Base Model On 100 Epochs\n",
    "history = model.fit(train_data, train_labels, epochs = 100, batch_size = 32, shuffle=True, validation_split=0.2, verbose = 1, callbacks=[checkpointer, tensorboard]).history"
   ]
  },
  {
   "cell_type": "code",
   "execution_count": 35,
   "metadata": {
    "colab": {
     "base_uri": "https://localhost:8080/",
     "height": 201
    },
    "id": "fAG3XeEu23Sk",
    "outputId": "7272a866-372a-49f5-e9bb-df2652994b57"
   },
   "outputs": [
    {
     "data": {
      "text/html": [
       "<div>\n",
       "<style scoped>\n",
       "    .dataframe tbody tr th:only-of-type {\n",
       "        vertical-align: middle;\n",
       "    }\n",
       "\n",
       "    .dataframe tbody tr th {\n",
       "        vertical-align: top;\n",
       "    }\n",
       "\n",
       "    .dataframe thead th {\n",
       "        text-align: right;\n",
       "    }\n",
       "</style>\n",
       "<table border=\"1\" class=\"dataframe\">\n",
       "  <thead>\n",
       "    <tr style=\"text-align: right;\">\n",
       "      <th></th>\n",
       "      <th>loss</th>\n",
       "      <th>accuracy</th>\n",
       "      <th>val_loss</th>\n",
       "      <th>val_accuracy</th>\n",
       "    </tr>\n",
       "  </thead>\n",
       "  <tbody>\n",
       "    <tr>\n",
       "      <th>95</th>\n",
       "      <td>0.001344</td>\n",
       "      <td>0.999605</td>\n",
       "      <td>0.007485</td>\n",
       "      <td>0.999147</td>\n",
       "    </tr>\n",
       "    <tr>\n",
       "      <th>96</th>\n",
       "      <td>0.001284</td>\n",
       "      <td>0.999542</td>\n",
       "      <td>0.007804</td>\n",
       "      <td>0.999147</td>\n",
       "    </tr>\n",
       "    <tr>\n",
       "      <th>97</th>\n",
       "      <td>0.001136</td>\n",
       "      <td>0.999624</td>\n",
       "      <td>0.008902</td>\n",
       "      <td>0.999072</td>\n",
       "    </tr>\n",
       "    <tr>\n",
       "      <th>98</th>\n",
       "      <td>0.001310</td>\n",
       "      <td>0.999574</td>\n",
       "      <td>0.008083</td>\n",
       "      <td>0.999122</td>\n",
       "    </tr>\n",
       "    <tr>\n",
       "      <th>99</th>\n",
       "      <td>0.001125</td>\n",
       "      <td>0.999611</td>\n",
       "      <td>0.008041</td>\n",
       "      <td>0.999097</td>\n",
       "    </tr>\n",
       "  </tbody>\n",
       "</table>\n",
       "</div>"
      ],
      "text/plain": [
       "        loss  accuracy  val_loss  val_accuracy\n",
       "95  0.001344  0.999605  0.007485      0.999147\n",
       "96  0.001284  0.999542  0.007804      0.999147\n",
       "97  0.001136  0.999624  0.008902      0.999072\n",
       "98  0.001310  0.999574  0.008083      0.999122\n",
       "99  0.001125  0.999611  0.008041      0.999097"
      ]
     },
     "execution_count": 35,
     "metadata": {
      "tags": []
     },
     "output_type": "execute_result"
    }
   ],
   "source": [
    "# Storing History In A Data Frame\n",
    "history_df = pd.DataFrame(history)\n",
    "history_df.tail()"
   ]
  },
  {
   "cell_type": "code",
   "execution_count": 36,
   "metadata": {
    "colab": {
     "base_uri": "https://localhost:8080/",
     "height": 535
    },
    "id": "i1m248J918AS",
    "outputId": "d2c2f16e-3fc3-41ad-c884-05f032c9e021"
   },
   "outputs": [
    {
     "data": {
      "image/png": "[encoded data removed]",
      "text/plain": [
       "<Figure size 1008x576 with 1 Axes>"
      ]
     },
     "metadata": {
      "tags": []
     },
     "output_type": "display_data"
    }
   ],
   "source": [
    "# Plotting Loss and Accuracy\n",
    "plt.plot(history_df['loss'])\n",
    "plt.plot(history_df['accuracy'])\n",
    "plt.plot(history_df['val_loss'])\n",
    "plt.plot(history_df['val_accuracy'])\n",
    "plt.title('Model Loss')\n",
    "plt.ylabel('Loss')\n",
    "plt.xlabel('Epoch')\n",
    "plt.legend(['Training Loss', 'Training Accuracy', 'Validation Loss', 'Validation Accuracy'], loc='upper right');"
   ]
  },
  {
   "cell_type": "code",
   "execution_count": 37,
   "metadata": {
    "id": "emgq3jFf2hoP"
   },
   "outputs": [],
   "source": [
    "# Making Predictions On Test Data\n",
    "predictions = model.predict(test_data)\n",
    "predictions = predictions.flatten()"
   ]
  },
  {
   "cell_type": "code",
   "execution_count": 38,
   "metadata": {
    "colab": {
     "base_uri": "https://localhost:8080/"
    },
    "id": "K3vm3omLgisE",
    "outputId": "3ab72e4d-d004-472f-bd3c-b293f64b5590"
   },
   "outputs": [
    {
     "data": {
      "text/plain": [
       "array([5.5610534e-12, 1.5843403e-07, 1.5995865e-16, ..., 1.4072149e-10,\n",
       "       9.3378258e-06, 2.1056392e-12], dtype=float32)"
      ]
     },
     "execution_count": 38,
     "metadata": {
      "tags": []
     },
     "output_type": "execute_result"
    }
   ],
   "source": [
    "predictions"
   ]
  },
  {
   "cell_type": "code",
   "execution_count": 39,
   "metadata": {
    "colab": {
     "base_uri": "https://localhost:8080/"
    },
    "id": "B4jFANmN3rH7",
    "outputId": "de3b4c09-c12f-49b5-97ab-682d0db8817d"
   },
   "outputs": [
    {
     "name": "stdout",
     "output_type": "stream",
     "text": [
      "2671/2671 [==============================] - 3s 942us/step - loss: 0.0072 - accuracy: 0.9994\n"
     ]
    }
   ],
   "source": [
    "# Testing Model On Testing Data\n",
    "testing = model.evaluate(test_data, test_labels)"
   ]
  },
  {
   "cell_type": "code",
   "execution_count": 40,
   "metadata": {
    "colab": {
     "base_uri": "https://localhost:8080/"
    },
    "id": "fgLj2OH733LD",
    "outputId": "ad871287-5d50-4b9b-cb9d-e77be80fae3b"
   },
   "outputs": [
    {
     "name": "stdout",
     "output_type": "stream",
     "text": [
      "Test Loss: 0.007237727288156748\n",
      "Test Accuracy: 0.9994382262229919\n"
     ]
    }
   ],
   "source": [
    "print(f\"Test Loss: {testing[0]}\")\n",
    "print(f\"Test Accuracy: {testing[1]}\")"
   ]
  },
  {
   "cell_type": "code",
   "execution_count": 53,
   "metadata": {
    "colab": {
     "base_uri": "https://localhost:8080/",
     "height": 513
    },
    "id": "dmw979_s61lW",
    "outputId": "49a3e11b-43c1-43c1-ded8-37164fe718d7"
   },
   "outputs": [
    {
     "data": {
      "image/png": "[encoded data removed]",
      "text/plain": [
       "<Figure size 1008x576 with 2 Axes>"
      ]
     },
     "metadata": {
      "tags": []
     },
     "output_type": "display_data"
    }
   ],
   "source": [
    "# Plotting Confusion Matrix\n",
    "from sklearn.metrics import confusion_matrix, classification_report\n",
    "# y_pred = model.predict(X_test)\n",
    "y_test = pd.DataFrame(testing)\n",
    "cm = confusion_matrix(test_labels, predictions.round())\n",
    "sns.heatmap(cm, annot=True, fmt='.0f', cmap='cividis_r')\n",
    "plt.title(\"Confusion Matrix\")\n",
    "plt.show()"
   ]
  },
  {
   "cell_type": "markdown",
   "metadata": {
    "id": "UuSKGg2ab9f-"
   },
   "source": [
    "## Unbalanced Data\n",
    "### As we can see that our model is overfitted because it is most probably unable to discriminate between valid transactions and fraud transactions because the mass of fraud transactions is very low as compared to the valid transactions and our model can treat them as normal transactions. Lets overcome this problem.\n"
   ]
  },
  {
   "cell_type": "markdown",
   "metadata": {
    "id": "apjAgCB2O3N9"
   },
   "source": [
    "# Building Second Model For Overcoming Unbalanced Data Problem"
   ]
  },
  {
   "cell_type": "markdown",
   "metadata": {
    "id": "ogV5ghuFcTdq"
   },
   "source": [
    "####There are many techniques to solve this problem but here I am using **SMOTE** Algorithm. **SMOTE** (synthetic minority oversampling technique) is one of the most commonly used oversampling methods to solve the imbalance problem. It aims to balance class distribution by randomly increasing minority class examples by replicating them. SMOTE synthesises new minority instances between existing minority instances."
   ]
  },
  {
   "cell_type": "code",
   "execution_count": 106,
   "metadata": {
    "colab": {
     "base_uri": "https://localhost:8080/",
     "height": 221
    },
    "id": "8exCQCXw7FIm",
    "outputId": "0828ae60-457f-46c3-99d6-a0d99303e913"
   },
   "outputs": [
    {
     "data": {
      "text/html": [
       "<div>\n",
       "<style scoped>\n",
       "    .dataframe tbody tr th:only-of-type {\n",
       "        vertical-align: middle;\n",
       "    }\n",
       "\n",
       "    .dataframe tbody tr th {\n",
       "        vertical-align: top;\n",
       "    }\n",
       "\n",
       "    .dataframe thead th {\n",
       "        text-align: right;\n",
       "    }\n",
       "</style>\n",
       "<table border=\"1\" class=\"dataframe\">\n",
       "  <thead>\n",
       "    <tr style=\"text-align: right;\">\n",
       "      <th></th>\n",
       "      <th>Time</th>\n",
       "      <th>V1</th>\n",
       "      <th>V2</th>\n",
       "      <th>V3</th>\n",
       "      <th>V4</th>\n",
       "      <th>V5</th>\n",
       "      <th>V6</th>\n",
       "      <th>V7</th>\n",
       "      <th>V8</th>\n",
       "      <th>V9</th>\n",
       "      <th>V10</th>\n",
       "      <th>V11</th>\n",
       "      <th>V12</th>\n",
       "      <th>V13</th>\n",
       "      <th>V14</th>\n",
       "      <th>V15</th>\n",
       "      <th>V16</th>\n",
       "      <th>V17</th>\n",
       "      <th>V18</th>\n",
       "      <th>V19</th>\n",
       "      <th>V20</th>\n",
       "      <th>V21</th>\n",
       "      <th>V22</th>\n",
       "      <th>V23</th>\n",
       "      <th>V24</th>\n",
       "      <th>V25</th>\n",
       "      <th>V26</th>\n",
       "      <th>V27</th>\n",
       "      <th>V28</th>\n",
       "      <th>Amount</th>\n",
       "      <th>Class</th>\n",
       "    </tr>\n",
       "  </thead>\n",
       "  <tbody>\n",
       "    <tr>\n",
       "      <th>0</th>\n",
       "      <td>0.0</td>\n",
       "      <td>-1.359807</td>\n",
       "      <td>-0.072781</td>\n",
       "      <td>2.536347</td>\n",
       "      <td>1.378155</td>\n",
       "      <td>-0.338321</td>\n",
       "      <td>0.462388</td>\n",
       "      <td>0.239599</td>\n",
       "      <td>0.098698</td>\n",
       "      <td>0.363787</td>\n",
       "      <td>0.090794</td>\n",
       "      <td>-0.551600</td>\n",
       "      <td>-0.617801</td>\n",
       "      <td>-0.991390</td>\n",
       "      <td>-0.311169</td>\n",
       "      <td>1.468177</td>\n",
       "      <td>-0.470401</td>\n",
       "      <td>0.207971</td>\n",
       "      <td>0.025791</td>\n",
       "      <td>0.403993</td>\n",
       "      <td>0.251412</td>\n",
       "      <td>-0.018307</td>\n",
       "      <td>0.277838</td>\n",
       "      <td>-0.110474</td>\n",
       "      <td>0.066928</td>\n",
       "      <td>0.128539</td>\n",
       "      <td>-0.189115</td>\n",
       "      <td>0.133558</td>\n",
       "      <td>-0.021053</td>\n",
       "      <td>149.62</td>\n",
       "      <td>0</td>\n",
       "    </tr>\n",
       "    <tr>\n",
       "      <th>1</th>\n",
       "      <td>0.0</td>\n",
       "      <td>1.191857</td>\n",
       "      <td>0.266151</td>\n",
       "      <td>0.166480</td>\n",
       "      <td>0.448154</td>\n",
       "      <td>0.060018</td>\n",
       "      <td>-0.082361</td>\n",
       "      <td>-0.078803</td>\n",
       "      <td>0.085102</td>\n",
       "      <td>-0.255425</td>\n",
       "      <td>-0.166974</td>\n",
       "      <td>1.612727</td>\n",
       "      <td>1.065235</td>\n",
       "      <td>0.489095</td>\n",
       "      <td>-0.143772</td>\n",
       "      <td>0.635558</td>\n",
       "      <td>0.463917</td>\n",
       "      <td>-0.114805</td>\n",
       "      <td>-0.183361</td>\n",
       "      <td>-0.145783</td>\n",
       "      <td>-0.069083</td>\n",
       "      <td>-0.225775</td>\n",
       "      <td>-0.638672</td>\n",
       "      <td>0.101288</td>\n",
       "      <td>-0.339846</td>\n",
       "      <td>0.167170</td>\n",
       "      <td>0.125895</td>\n",
       "      <td>-0.008983</td>\n",
       "      <td>0.014724</td>\n",
       "      <td>2.69</td>\n",
       "      <td>0</td>\n",
       "    </tr>\n",
       "    <tr>\n",
       "      <th>2</th>\n",
       "      <td>1.0</td>\n",
       "      <td>-1.358354</td>\n",
       "      <td>-1.340163</td>\n",
       "      <td>1.773209</td>\n",
       "      <td>0.379780</td>\n",
       "      <td>-0.503198</td>\n",
       "      <td>1.800499</td>\n",
       "      <td>0.791461</td>\n",
       "      <td>0.247676</td>\n",
       "      <td>-1.514654</td>\n",
       "      <td>0.207643</td>\n",
       "      <td>0.624501</td>\n",
       "      <td>0.066084</td>\n",
       "      <td>0.717293</td>\n",
       "      <td>-0.165946</td>\n",
       "      <td>2.345865</td>\n",
       "      <td>-2.890083</td>\n",
       "      <td>1.109969</td>\n",
       "      <td>-0.121359</td>\n",
       "      <td>-2.261857</td>\n",
       "      <td>0.524980</td>\n",
       "      <td>0.247998</td>\n",
       "      <td>0.771679</td>\n",
       "      <td>0.909412</td>\n",
       "      <td>-0.689281</td>\n",
       "      <td>-0.327642</td>\n",
       "      <td>-0.139097</td>\n",
       "      <td>-0.055353</td>\n",
       "      <td>-0.059752</td>\n",
       "      <td>378.66</td>\n",
       "      <td>0</td>\n",
       "    </tr>\n",
       "    <tr>\n",
       "      <th>3</th>\n",
       "      <td>1.0</td>\n",
       "      <td>-0.966272</td>\n",
       "      <td>-0.185226</td>\n",
       "      <td>1.792993</td>\n",
       "      <td>-0.863291</td>\n",
       "      <td>-0.010309</td>\n",
       "      <td>1.247203</td>\n",
       "      <td>0.237609</td>\n",
       "      <td>0.377436</td>\n",
       "      <td>-1.387024</td>\n",
       "      <td>-0.054952</td>\n",
       "      <td>-0.226487</td>\n",
       "      <td>0.178228</td>\n",
       "      <td>0.507757</td>\n",
       "      <td>-0.287924</td>\n",
       "      <td>-0.631418</td>\n",
       "      <td>-1.059647</td>\n",
       "      <td>-0.684093</td>\n",
       "      <td>1.965775</td>\n",
       "      <td>-1.232622</td>\n",
       "      <td>-0.208038</td>\n",
       "      <td>-0.108300</td>\n",
       "      <td>0.005274</td>\n",
       "      <td>-0.190321</td>\n",
       "      <td>-1.175575</td>\n",
       "      <td>0.647376</td>\n",
       "      <td>-0.221929</td>\n",
       "      <td>0.062723</td>\n",
       "      <td>0.061458</td>\n",
       "      <td>123.50</td>\n",
       "      <td>0</td>\n",
       "    </tr>\n",
       "    <tr>\n",
       "      <th>4</th>\n",
       "      <td>2.0</td>\n",
       "      <td>-1.158233</td>\n",
       "      <td>0.877737</td>\n",
       "      <td>1.548718</td>\n",
       "      <td>0.403034</td>\n",
       "      <td>-0.407193</td>\n",
       "      <td>0.095921</td>\n",
       "      <td>0.592941</td>\n",
       "      <td>-0.270533</td>\n",
       "      <td>0.817739</td>\n",
       "      <td>0.753074</td>\n",
       "      <td>-0.822843</td>\n",
       "      <td>0.538196</td>\n",
       "      <td>1.345852</td>\n",
       "      <td>-1.119670</td>\n",
       "      <td>0.175121</td>\n",
       "      <td>-0.451449</td>\n",
       "      <td>-0.237033</td>\n",
       "      <td>-0.038195</td>\n",
       "      <td>0.803487</td>\n",
       "      <td>0.408542</td>\n",
       "      <td>-0.009431</td>\n",
       "      <td>0.798278</td>\n",
       "      <td>-0.137458</td>\n",
       "      <td>0.141267</td>\n",
       "      <td>-0.206010</td>\n",
       "      <td>0.502292</td>\n",
       "      <td>0.219422</td>\n",
       "      <td>0.215153</td>\n",
       "      <td>69.99</td>\n",
       "      <td>0</td>\n",
       "    </tr>\n",
       "  </tbody>\n",
       "</table>\n",
       "</div>"
      ],
      "text/plain": [
       "   Time        V1        V2        V3  ...       V27       V28  Amount  Class\n",
       "0   0.0 -1.359807 -0.072781  2.536347  ...  0.133558 -0.021053  149.62      0\n",
       "1   0.0  1.191857  0.266151  0.166480  ... -0.008983  0.014724    2.69      0\n",
       "2   1.0 -1.358354 -1.340163  1.773209  ... -0.055353 -0.059752  378.66      0\n",
       "3   1.0 -0.966272 -0.185226  1.792993  ...  0.062723  0.061458  123.50      0\n",
       "4   2.0 -1.158233  0.877737  1.548718  ...  0.219422  0.215153   69.99      0\n",
       "\n",
       "[5 rows x 31 columns]"
      ]
     },
     "execution_count": 106,
     "metadata": {
      "tags": []
     },
     "output_type": "execute_result"
    }
   ],
   "source": [
    "# Checking Dataset To Ensure That It IS Not Changed\n",
    "df.head()"
   ]
  },
  {
   "cell_type": "code",
   "execution_count": 107,
   "metadata": {
    "id": "l3aCToQl7FEg"
   },
   "outputs": [],
   "source": [
    "# Standardizing The Amount Feature\n",
    "df['NormAmount'] = StandardScaler().fit_transform(df['Amount'].values.reshape(-1, 1))\n",
    "df = df.drop(['Time','Amount'],axis=1)"
   ]
  },
  {
   "cell_type": "code",
   "execution_count": null,
   "metadata": {
    "id": "-xt40jcoDJos"
   },
   "outputs": [],
   "source": [
    "# Separating Test Data\n",
    "X = df.iloc[:, df.columns != 'Class']\n",
    "y = df.iloc[:, df.columns == 'Class']"
   ]
  },
  {
   "cell_type": "code",
   "execution_count": 111,
   "metadata": {
    "id": "oJB3p4Wn7FAB"
   },
   "outputs": [],
   "source": [
    "# Importing SMOTE \n",
    "from imblearn.over_sampling import SMOTE\n",
    "np.random.seed(9)"
   ]
  },
  {
   "cell_type": "code",
   "execution_count": 139,
   "metadata": {
    "colab": {
     "base_uri": "https://localhost:8080/"
    },
    "id": "ExLEP-Vu7E8D",
    "outputId": "896c1c9e-54bd-462a-f2c7-db65de991e23"
   },
   "outputs": [
    {
     "name": "stdout",
     "output_type": "stream",
     "text": [
      "No. Of Transactions: 284807, Fraud Transactions: 492\n"
     ]
    }
   ],
   "source": [
    "# Counting The Number Of Fraud And Valid Transactions\n",
    "all_records= len(df)\n",
    "number_records_fraud = len(df[df.Class == 1])\n",
    "print(f\"No. Of Transactions: {all_records}, Fraud Transactions: {number_records_fraud}\")"
   ]
  },
  {
   "cell_type": "code",
   "execution_count": null,
   "metadata": {
    "id": "phq3hPTcDdtg"
   },
   "outputs": [],
   "source": [
    "# Applying SMOTE\n",
    "X_resample, y_resample = SMOTE().fit_sample(X, y.values.ravel())"
   ]
  },
  {
   "cell_type": "code",
   "execution_count": 119,
   "metadata": {
    "id": "7l_pl1MP7E4E"
   },
   "outputs": [],
   "source": [
    "# Transforming Into Pandas DataFrame\n",
    "y_resample = pd.DataFrame(y_resample)\n",
    "X_resample = pd.DataFrame(X_resample)"
   ]
  },
  {
   "cell_type": "code",
   "execution_count": null,
   "metadata": {
    "id": "2HcJJ1cqDlVN"
   },
   "outputs": [],
   "source": [
    "# Splitting The Dataset Into Training And Testing Data\n",
    "X_train, X_test, Y_train, Y_test = train_test_split(X_resample, y_resample, test_size=0.3, random_state=0)"
   ]
  },
  {
   "cell_type": "code",
   "execution_count": 130,
   "metadata": {
    "colab": {
     "base_uri": "https://localhost:8080/"
    },
    "id": "bIj1DgIe7Ezt",
    "outputId": "9b1e1d3c-b66c-4f76-8c22-34649b3e1c0b"
   },
   "outputs": [
    {
     "name": "stdout",
     "output_type": "stream",
     "text": [
      "Model: \"sequential_7\"\n",
      "_________________________________________________________________\n",
      "Layer (type)                 Output Shape              Param #   \n",
      "=================================================================\n",
      "dense_26 (Dense)             (None, 16)                480       \n",
      "_________________________________________________________________\n",
      "dense_27 (Dense)             (None, 18)                306       \n",
      "_________________________________________________________________\n",
      "dropout_8 (Dropout)          (None, 18)                0         \n",
      "_________________________________________________________________\n",
      "dense_28 (Dense)             (None, 20)                380       \n",
      "_________________________________________________________________\n",
      "dense_29 (Dense)             (None, 24)                504       \n",
      "_________________________________________________________________\n",
      "dense_30 (Dense)             (None, 1)                 25        \n",
      "=================================================================\n",
      "Total params: 1,695\n",
      "Trainable params: 1,695\n",
      "Non-trainable params: 0\n",
      "_________________________________________________________________\n"
     ]
    }
   ],
   "source": [
    "# Making Second Model\n",
    "model2 = Sequential()\n",
    "model2.add(Dense(16, kernel_initializer='uniform', activation = 'relu', input_shape = (29,)))\n",
    "model2.add(Dense(18, kernel_initializer='uniform', activation = 'relu'))\n",
    "model2.add(Dropout(0.25))\n",
    "model2.add(Dense(20, kernel_initializer = 'uniform', activation='relu'))\n",
    "model2.add(Dense(24, kernel_initializer='uniform', activation='relu'))\n",
    "model2.add(Dense(1, kernel_initializer='uniform', activation='sigmoid'))\n",
    "model2.summary()"
   ]
  },
  {
   "cell_type": "code",
   "execution_count": 131,
   "metadata": {
    "colab": {
     "base_uri": "https://localhost:8080/"
    },
    "id": "iBWx4sk_7EvV",
    "outputId": "68e415b3-5076-4a22-84ab-9c7fd8a8da89"
   },
   "outputs": [
    {
     "name": "stdout",
     "output_type": "stream",
     "text": [
      "Epoch 1/5\n",
      "26537/26537 [==============================] - 39s 1ms/step - loss: 0.0680 - accuracy: 0.9738\n",
      "Epoch 2/5\n",
      "26537/26537 [==============================] - 39s 1ms/step - loss: 0.0173 - accuracy: 0.9951\n",
      "Epoch 3/5\n",
      "26537/26537 [==============================] - 39s 1ms/step - loss: 0.0140 - accuracy: 0.9963\n",
      "Epoch 4/5\n",
      "26537/26537 [==============================] - 39s 1ms/step - loss: 0.0106 - accuracy: 0.9973\n",
      "Epoch 5/5\n",
      "26537/26537 [==============================] - 39s 1ms/step - loss: 0.0100 - accuracy: 0.9975\n"
     ]
    },
    {
     "data": {
      "text/plain": [
       "<tensorflow.python.keras.callbacks.History at 0x7f50902ac190>"
      ]
     },
     "execution_count": 131,
     "metadata": {
      "tags": []
     },
     "output_type": "execute_result"
    }
   ],
   "source": [
    "# Compilation Step\n",
    "model2.compile(optimizer='adam', loss='binary_crossentropy', metrics=['accuracy'])\n",
    "# Fitting Second Model On 5 Epochs\n",
    "model2.fit(np.array(X_train), np.array(Y_train), batch_size=15, epochs=5)"
   ]
  },
  {
   "cell_type": "code",
   "execution_count": 132,
   "metadata": {
    "colab": {
     "base_uri": "https://localhost:8080/"
    },
    "id": "e5OAEesG7Epx",
    "outputId": "620b8c7e-813c-4580-fbae-9e1b38856f3b"
   },
   "outputs": [
    {
     "name": "stdout",
     "output_type": "stream",
     "text": [
      "1333/1333 [==============================] - 1s 999us/step - loss: 0.0101 - accuracy: 0.9976\n",
      "\n",
      "Testing Score Is:  99.76083040237427 %\n"
     ]
    }
   ],
   "source": [
    "# Testing Second Model On Test Data\n",
    "score = model2.evaluate(np.array(X_test), np.array(Y_test), batch_size=128)\n",
    "print('\\nTesting Score Is: ', score[1] * 100, '%')"
   ]
  },
  {
   "cell_type": "code",
   "execution_count": 133,
   "metadata": {
    "id": "mnBSm5BU9E8_"
   },
   "outputs": [],
   "source": [
    "# Defining Function For Confusion Matrix\n",
    "\n",
    "import itertools\n",
    "import matplotlib.pyplot as plt\n",
    "from sklearn.metrics import confusion_matrix,precision_recall_curve,auc,roc_auc_score,roc_curve,recall_score,classification_report \n",
    "\n",
    "def plot_confusion_matrix(cm, classes,\n",
    "                          normalize=False,\n",
    "                          title='Confusion matrix',\n",
    "                          cmap=plt.cm.Blues):\n",
    "    \"\"\"\n",
    "    This function prints and plots the confusion matrix.\n",
    "    Normalization can be applied by setting `normalize=True`.\n",
    "    \"\"\"\n",
    "    plt.imshow(cm, interpolation='nearest', cmap=cmap)\n",
    "    plt.title(title)\n",
    "    plt.colorbar()\n",
    "    tick_marks = np.arange(len(classes))\n",
    "    plt.xticks(tick_marks, classes, rotation=0)\n",
    "    plt.yticks(tick_marks, classes)\n",
    "\n",
    "    if normalize:\n",
    "        cm = cm.astype('float') / cm.sum(axis=1)[:, np.newaxis]\n",
    "        #print(\"Normalized confusion matrix\")\n",
    "    else:\n",
    "        1#print('Confusion matrix, without normalization')\n",
    "\n",
    "    #print(cm)\n",
    "\n",
    "    thresh = cm.max() / 2.\n",
    "    for i, j in itertools.product(range(cm.shape[0]), range(cm.shape[1])):\n",
    "        plt.text(j, i, cm[i, j],\n",
    "                 horizontalalignment=\"center\",\n",
    "                 color=\"white\" if cm[i, j] > thresh else \"black\")\n",
    "\n",
    "    plt.tight_layout()\n",
    "    plt.ylabel('True Lable')\n",
    "    plt.xlabel('Predicted Label')"
   ]
  },
  {
   "cell_type": "code",
   "execution_count": 134,
   "metadata": {
    "id": "vJJuo61a9IVn"
   },
   "outputs": [],
   "source": [
    "y_pred = model2.predict(np.array(X_test))"
   ]
  },
  {
   "cell_type": "code",
   "execution_count": 135,
   "metadata": {
    "colab": {
     "base_uri": "https://localhost:8080/"
    },
    "id": "ewJUerCa9Jxe",
    "outputId": "405491db-68ea-4d1b-e015-a8631c58d371"
   },
   "outputs": [
    {
     "data": {
      "text/plain": [
       "(170589, 1)"
      ]
     },
     "execution_count": 135,
     "metadata": {
      "tags": []
     },
     "output_type": "execute_result"
    }
   ],
   "source": [
    "Y_test = pd.DataFrame(Y_test)\n",
    "Y_test.shape"
   ]
  },
  {
   "cell_type": "code",
   "execution_count": 136,
   "metadata": {
    "colab": {
     "base_uri": "https://localhost:8080/",
     "height": 607
    },
    "id": "veECNZN49PHW",
    "outputId": "4650e129-bfac-45cf-cf71-4c9b1c8a66c8"
   },
   "outputs": [
    {
     "name": "stdout",
     "output_type": "stream",
     "text": [
      "Recall metric in the testing dataset:  0.9998243909292062\n"
     ]
    },
    {
     "data": {
      "image/png": "[encoded data removed]",
      "text/plain": [
       "<Figure size 1008x576 with 2 Axes>"
      ]
     },
     "metadata": {
      "tags": []
     },
     "output_type": "display_data"
    }
   ],
   "source": [
    "# Plotting Confusion Matrix\n",
    "cnf_matrix = confusion_matrix(Y_test,y_pred.round())\n",
    "np.set_printoptions(precision=2)\n",
    "\n",
    "print(\"Recall metric in the testing dataset: \", cnf_matrix[1,1]/(cnf_matrix[1,0]+cnf_matrix[1,1]))\n",
    "\n",
    "# Plot non-normalized confusion matrix\n",
    "class_names = [0,1]\n",
    "plt.figure()\n",
    "plot_confusion_matrix(cnf_matrix\n",
    "                      , classes=class_names\n",
    "                      , title='Confusion matrix')\n",
    "plt.show()"
   ]
  },
  {
   "cell_type": "code",
   "execution_count": 137,
   "metadata": {
    "id": "oq1tq33O-Lwe"
   },
   "outputs": [],
   "source": [
    "y_pred = model2.predict(np.array(X))"
   ]
  },
  {
   "cell_type": "code",
   "execution_count": 138,
   "metadata": {
    "colab": {
     "base_uri": "https://localhost:8080/",
     "height": 607
    },
    "id": "s5tCbkpQ-PIq",
    "outputId": "5f571acd-252c-4991-c3eb-b41c9c5a8b27"
   },
   "outputs": [
    {
     "name": "stdout",
     "output_type": "stream",
     "text": [
      "Recall metric in the testing dataset:  0.9979674796747967\n"
     ]
    },
    {
     "data": {
      "image/png": "[encoded data removed]",
      "text/plain": [
       "<Figure size 1008x576 with 2 Axes>"
      ]
     },
     "metadata": {
      "tags": []
     },
     "output_type": "display_data"
    }
   ],
   "source": [
    "# Plotting Confusion Matrix\n",
    "\n",
    "cnf_matrix = confusion_matrix(y,y_pred.round())\n",
    "np.set_printoptions(precision=2)\n",
    "\n",
    "print(\"Recall metric in the testing dataset: \", cnf_matrix[1,1]/(cnf_matrix[1,0]+cnf_matrix[1,1]))\n",
    "\n",
    "# Plot non-normalized confusion matrix\n",
    "class_names = [0,1]\n",
    "plt.figure()\n",
    "plot_confusion_matrix(cnf_matrix\n",
    "                      , classes=class_names\n",
    "                      , title='Confusion matrix')\n",
    "plt.show()"
   ]
  },
  {
   "cell_type": "markdown",
   "metadata": {
    "id": "ZucsTS9AHCxh"
   },
   "source": [
    "### **WoooW!** As You Can See In The Above Confusion Matrix That We Have Misclassified Only **One** Fraud Transaction. This Is A Good Result. Lets Save This Model."
   ]
  },
  {
   "cell_type": "code",
   "execution_count": 140,
   "metadata": {
    "id": "MDgjgzGyHw13"
   },
   "outputs": [],
   "source": [
    "# Saving Appropriate Model\n",
    "model2.save('CreditCardFraudDetectionModel.h5')"
   ]
  },
  {
   "cell_type": "code",
   "execution_count": 142,
   "metadata": {
    "colab": {
     "base_uri": "https://localhost:8080/",
     "height": 34
    },
    "id": "z3uzgrLsMA1O",
    "outputId": "3198240c-cb8e-4aab-9d8e-a07287a93896"
   },
   "outputs": [
    {
     "data": {
      "application/javascript": [
       "\n",
       "    async function download(id, filename, size) {\n",
       "      if (!google.colab.kernel.accessAllowed) {\n",
       "        return;\n",
       "      }\n",
       "      const div = document.createElement('div');\n",
       "      const label = document.createElement('label');\n",
       "      label.textContent = `Downloading \"${filename}\": `;\n",
       "      div.appendChild(label);\n",
       "      const progress = document.createElement('progress');\n",
       "      progress.max = size;\n",
       "      div.appendChild(progress);\n",
       "      document.body.appendChild(div);\n",
       "\n",
       "      const buffers = [];\n",
       "      let downloaded = 0;\n",
       "\n",
       "      const channel = await google.colab.kernel.comms.open(id);\n",
       "      // Send a message to notify the kernel that we're ready.\n",
       "      channel.send({})\n",
       "\n",
       "      for await (const message of channel.messages) {\n",
       "        // Send a message to notify the kernel that we're ready.\n",
       "        channel.send({})\n",
       "        if (message.buffers) {\n",
       "          for (const buffer of message.buffers) {\n",
       "            buffers.push(buffer);\n",
       "            downloaded += buffer.byteLength;\n",
       "            progress.value = downloaded;\n",
       "          }\n",
       "        }\n",
       "      }\n",
       "      const blob = new Blob(buffers, {type: 'application/binary'});\n",
       "      const a = document.createElement('a');\n",
       "      a.href = window.URL.createObjectURL(blob);\n",
       "      a.download = filename;\n",
       "      div.appendChild(a);\n",
       "      a.click();\n",
       "      div.remove();\n",
       "    }\n",
       "  "
      ],
      "text/plain": [
       "<IPython.core.display.Javascript object>"
      ]
     },
     "metadata": {
      "tags": []
     },
     "output_type": "display_data"
    },
    {
     "data": {
      "application/javascript": [
       "download(\"download_533f6195-a24a-4c0f-b5d9-c5c696f8a57b\", \"CreditCard_Fraud_Detection_Assignment.csv\", 157663419)"
      ],
      "text/plain": [
       "<IPython.core.display.Javascript object>"
      ]
     },
     "metadata": {
      "tags": []
     },
     "output_type": "display_data"
    },
    {
     "name": "stdout",
     "output_type": "stream",
     "text": [
      "Your File Was Saved Successfully!\n"
     ]
    }
   ],
   "source": [
    "# Saving Model In CSV File\n",
    "from google.colab import files\n",
    "df.to_csv('CreditCard_Fraud_Detection_Assignment.csv', index=False)\n",
    "files.download('CreditCard_Fraud_Detection_Assignment.csv')\n",
    "print(\"Your File Was Saved Successfully!\")"
   ]
  }
 ],
 "metadata": {
  "colab": {
   "collapsed_sections": [],
   "include_colab_link": true,
   "name": "Credit Card Fraud Detection assignment.ipynb",
   "provenance": []
  },
  "kernelspec": {
   "display_name": "Python 3",
   "language": "python",
   "name": "python3"
  },
  "language_info": {
   "codemirror_mode": {
    "name": "ipython",
    "version": 3
   },
   "file_extension": ".py",
   "mimetype": "text/x-python",
   "name": "python",
   "nbconvert_exporter": "python",
   "pygments_lexer": "ipython3",
   "version": "3.7.3"
  }
 },
 "nbformat": 4,
 "nbformat_minor": 1
}
